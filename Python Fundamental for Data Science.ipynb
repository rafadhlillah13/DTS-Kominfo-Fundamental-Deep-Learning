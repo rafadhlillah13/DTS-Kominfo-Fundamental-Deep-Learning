{
 "cells": [
  {
   "cell_type": "markdown",
   "id": "759dfbb2-a274-4282-8a1a-f6a05341fb89",
   "metadata": {},
   "source": [
    "# Python Fundamental for Data Science"
   ]
  },
  {
   "cell_type": "markdown",
   "id": "2669202c-0df9-455b-bd9a-469c93401bc9",
   "metadata": {},
   "source": [
    "## Hello World!\n",
    "Struktur code pada Python relatif sangat sederhana, tidak serumit seperti pada Java ataupun C. Selain karena memang mudah dibaca, python juga termasuk pada high level programming language seperti yang telah dibahas sebelumnya."
   ]
  },
  {
   "cell_type": "code",
   "execution_count": 1,
   "id": "c769d716-e47a-4b72-b0a3-3e4b9bf79d5f",
   "metadata": {},
   "outputs": [
    {
     "name": "stdout",
     "output_type": "stream",
     "text": [
      "Hello World\n"
     ]
    }
   ],
   "source": [
    "print (\"Hello World\")"
   ]
  },
  {
   "cell_type": "code",
   "execution_count": 2,
   "id": "dd3ddb6d-456e-4906-a023-f04cadab4229",
   "metadata": {},
   "outputs": [
    {
     "name": "stdout",
     "output_type": "stream",
     "text": [
      "Hello World\n",
      "6\n"
     ]
    }
   ],
   "source": [
    "print (\"Hello World\")\n",
    "print(5+1)"
   ]
  },
  {
   "cell_type": "markdown",
   "id": "958192ed-9031-4dd3-96f0-a39137c2349b",
   "metadata": {},
   "source": [
    "### Tugas Praktek\n",
    "- Tampilkan hasil perhitungan (10*2+5) pada baris pertama.\n",
    "- tampilkan teks \"Academy DQLab\" pada baris kedua."
   ]
  },
  {
   "cell_type": "code",
   "execution_count": 3,
   "id": "8812909e-720c-4ff2-b8f8-38afbaf1825c",
   "metadata": {},
   "outputs": [
    {
     "name": "stdout",
     "output_type": "stream",
     "text": [
      "25\n",
      "Academy DQLab\n"
     ]
    }
   ],
   "source": [
    "print(10*2+5) \n",
    "print(\"Academy DQLab\")"
   ]
  },
  {
   "cell_type": "markdown",
   "id": "185b9633-674f-418e-bf31-1570bbe67b1a",
   "metadata": {},
   "source": [
    "### Tugas Praktek\n",
    "Berikan keterangan untuk setiap baris program dengan perintah comment:"
   ]
  },
  {
   "cell_type": "code",
   "execution_count": 4,
   "id": "2897b763-296f-44f0-9c72-2ceb1d66b2de",
   "metadata": {},
   "outputs": [
    {
     "name": "stdout",
     "output_type": "stream",
     "text": [
      "25\n",
      "Academy DQLab\n"
     ]
    }
   ],
   "source": [
    "print(10*2+5) #fungsi matematika\n",
    "print(\"Academy DQLab\") #fungsi mencetak kalimat"
   ]
  },
  {
   "cell_type": "markdown",
   "id": "2288b5e2-b0a1-43cb-b58c-0e4910a80df7",
   "metadata": {},
   "source": [
    "## Printing Data Type"
   ]
  },
  {
   "cell_type": "code",
   "execution_count": 5,
   "id": "106d7059-d97e-4eaf-97c2-804e42b6b7c5",
   "metadata": {},
   "outputs": [
    {
     "name": "stdout",
     "output_type": "stream",
     "text": [
      "Belajar Python DQLAB\n",
      "10\n",
      "3.14\n",
      "[1, 2, 3, 4]\n",
      "('satu', 'dua', 'tiga')\n",
      "{'nama': 'Ali', 'umur': 20}\n",
      "<class 'str'>\n",
      "<class 'int'>\n",
      "<class 'float'>\n",
      "<class 'list'>\n",
      "<class 'tuple'>\n",
      "<class 'dict'>\n"
     ]
    }
   ],
   "source": [
    "var_string=\"Belajar Python DQLAB\"\n",
    "var_int=10\n",
    "var_float=3.14\n",
    "var_list=[1,2,3,4]\n",
    "var_tuple=(\"satu\",\"dua\",\"tiga\")\n",
    "var_dict={\"nama\":\"Ali\", 'umur':20}\n",
    "\n",
    "\n",
    "print(var_string)\n",
    "print(var_int)\n",
    "print(var_float)\n",
    "print(var_list)\n",
    "print(var_tuple)\n",
    "print(var_dict)\n",
    "\n",
    "print(type(var_string))\n",
    "print(type(var_int))\n",
    "print(type(var_float))\n",
    "print(type(var_list))\n",
    "print(type(var_tuple))\n",
    "print(type(var_dict))"
   ]
  }
 ],
 "metadata": {
  "kernelspec": {
   "display_name": "Python 3 (ipykernel)",
   "language": "python",
   "name": "python3"
  },
  "language_info": {
   "codemirror_mode": {
    "name": "ipython",
    "version": 3
   },
   "file_extension": ".py",
   "mimetype": "text/x-python",
   "name": "python",
   "nbconvert_exporter": "python",
   "pygments_lexer": "ipython3",
   "version": "3.10.4"
  }
 },
 "nbformat": 4,
 "nbformat_minor": 5
}
