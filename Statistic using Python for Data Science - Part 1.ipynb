{
 "cells": [
  {
   "cell_type": "markdown",
   "id": "4f91cf1b",
   "metadata": {},
   "source": [
    "# Statistic using Python for Data Science - Part 1"
   ]
  },
  {
   "cell_type": "markdown",
   "id": "fd442b70",
   "metadata": {},
   "source": [
    "## CHAPTER 2 Pengenalan Numpy dan Pandas"
   ]
  },
  {
   "cell_type": "markdown",
   "id": "13e974ff",
   "metadata": {},
   "source": [
    "### Load Library\n",
    "Biasanya pada awal mula sebelum melakukan pengolahan data kita memanggil library yang diinginkan untuk digunakan dalam analisa data, dalam hal ini kita akan memuat numpy dan pandas."
   ]
  },
  {
   "cell_type": "code",
   "execution_count": 1,
   "id": "85716c1c",
   "metadata": {},
   "outputs": [],
   "source": [
    "# memuat numpy sebagai np\n",
    "import numpy as np\n",
    " \n",
    "# memuat pandas sebagai pd\n",
    "import pandas as pd"
   ]
  },
  {
   "cell_type": "markdown",
   "id": "65e5d219",
   "metadata": {},
   "source": [
    "### Load Dataset"
   ]
  },
  {
   "cell_type": "code",
   "execution_count": 2,
   "id": "ff1f0d3e",
   "metadata": {},
   "outputs": [
    {
     "data": {
      "text/html": [
       "<div>\n",
       "<style scoped>\n",
       "    .dataframe tbody tr th:only-of-type {\n",
       "        vertical-align: middle;\n",
       "    }\n",
       "\n",
       "    .dataframe tbody tr th {\n",
       "        vertical-align: top;\n",
       "    }\n",
       "\n",
       "    .dataframe thead th {\n",
       "        text-align: right;\n",
       "    }\n",
       "</style>\n",
       "<table border=\"1\" class=\"dataframe\">\n",
       "  <thead>\n",
       "    <tr style=\"text-align: right;\">\n",
       "      <th></th>\n",
       "      <th>ID Pelanggan</th>\n",
       "      <th>Nama</th>\n",
       "      <th>Jenis Kelamin</th>\n",
       "      <th>Pendapatan</th>\n",
       "      <th>Produk</th>\n",
       "      <th>Harga</th>\n",
       "      <th>Jumlah</th>\n",
       "      <th>Total</th>\n",
       "      <th>Tingkat Kepuasan</th>\n",
       "    </tr>\n",
       "  </thead>\n",
       "  <tbody>\n",
       "    <tr>\n",
       "      <th>0</th>\n",
       "      <td>1</td>\n",
       "      <td>Arif</td>\n",
       "      <td>1</td>\n",
       "      <td>600000</td>\n",
       "      <td>A</td>\n",
       "      <td>100000</td>\n",
       "      <td>4</td>\n",
       "      <td>400000</td>\n",
       "      <td>2</td>\n",
       "    </tr>\n",
       "    <tr>\n",
       "      <th>1</th>\n",
       "      <td>2</td>\n",
       "      <td>Dian</td>\n",
       "      <td>2</td>\n",
       "      <td>1200000</td>\n",
       "      <td>D</td>\n",
       "      <td>250000</td>\n",
       "      <td>4</td>\n",
       "      <td>1000000</td>\n",
       "      <td>2</td>\n",
       "    </tr>\n",
       "    <tr>\n",
       "      <th>2</th>\n",
       "      <td>3</td>\n",
       "      <td>Dinda</td>\n",
       "      <td>2</td>\n",
       "      <td>950000</td>\n",
       "      <td>D</td>\n",
       "      <td>250000</td>\n",
       "      <td>3</td>\n",
       "      <td>750000</td>\n",
       "      <td>3</td>\n",
       "    </tr>\n",
       "    <tr>\n",
       "      <th>3</th>\n",
       "      <td>4</td>\n",
       "      <td>Fajar</td>\n",
       "      <td>1</td>\n",
       "      <td>400000</td>\n",
       "      <td>A</td>\n",
       "      <td>100000</td>\n",
       "      <td>2</td>\n",
       "      <td>200000</td>\n",
       "      <td>3</td>\n",
       "    </tr>\n",
       "    <tr>\n",
       "      <th>4</th>\n",
       "      <td>5</td>\n",
       "      <td>Ika</td>\n",
       "      <td>2</td>\n",
       "      <td>1200000</td>\n",
       "      <td>D</td>\n",
       "      <td>250000</td>\n",
       "      <td>4</td>\n",
       "      <td>1000000</td>\n",
       "      <td>2</td>\n",
       "    </tr>\n",
       "    <tr>\n",
       "      <th>5</th>\n",
       "      <td>6</td>\n",
       "      <td>Ilham</td>\n",
       "      <td>1</td>\n",
       "      <td>800000</td>\n",
       "      <td>B</td>\n",
       "      <td>150000</td>\n",
       "      <td>4</td>\n",
       "      <td>600000</td>\n",
       "      <td>3</td>\n",
       "    </tr>\n",
       "    <tr>\n",
       "      <th>6</th>\n",
       "      <td>7</td>\n",
       "      <td>Indra</td>\n",
       "      <td>1</td>\n",
       "      <td>950000</td>\n",
       "      <td>B</td>\n",
       "      <td>150000</td>\n",
       "      <td>5</td>\n",
       "      <td>750000</td>\n",
       "      <td>1</td>\n",
       "    </tr>\n",
       "    <tr>\n",
       "      <th>7</th>\n",
       "      <td>8</td>\n",
       "      <td>Kartika</td>\n",
       "      <td>2</td>\n",
       "      <td>1100000</td>\n",
       "      <td>E</td>\n",
       "      <td>300000</td>\n",
       "      <td>3</td>\n",
       "      <td>900000</td>\n",
       "      <td>3</td>\n",
       "    </tr>\n",
       "    <tr>\n",
       "      <th>8</th>\n",
       "      <td>9</td>\n",
       "      <td>Lestari</td>\n",
       "      <td>2</td>\n",
       "      <td>800000</td>\n",
       "      <td>E</td>\n",
       "      <td>300000</td>\n",
       "      <td>2</td>\n",
       "      <td>600000</td>\n",
       "      <td>1</td>\n",
       "    </tr>\n",
       "    <tr>\n",
       "      <th>9</th>\n",
       "      <td>10</td>\n",
       "      <td>Lia</td>\n",
       "      <td>2</td>\n",
       "      <td>1700000</td>\n",
       "      <td>E</td>\n",
       "      <td>300000</td>\n",
       "      <td>5</td>\n",
       "      <td>1500000</td>\n",
       "      <td>1</td>\n",
       "    </tr>\n",
       "    <tr>\n",
       "      <th>10</th>\n",
       "      <td>11</td>\n",
       "      <td>Maria</td>\n",
       "      <td>2</td>\n",
       "      <td>600000</td>\n",
       "      <td>A</td>\n",
       "      <td>100000</td>\n",
       "      <td>4</td>\n",
       "      <td>400000</td>\n",
       "      <td>3</td>\n",
       "    </tr>\n",
       "    <tr>\n",
       "      <th>11</th>\n",
       "      <td>12</td>\n",
       "      <td>Maya</td>\n",
       "      <td>2</td>\n",
       "      <td>950000</td>\n",
       "      <td>B</td>\n",
       "      <td>150000</td>\n",
       "      <td>5</td>\n",
       "      <td>750000</td>\n",
       "      <td>3</td>\n",
       "    </tr>\n",
       "    <tr>\n",
       "      <th>12</th>\n",
       "      <td>13</td>\n",
       "      <td>Mila</td>\n",
       "      <td>2</td>\n",
       "      <td>400000</td>\n",
       "      <td>C</td>\n",
       "      <td>200000</td>\n",
       "      <td>1</td>\n",
       "      <td>200000</td>\n",
       "      <td>2</td>\n",
       "    </tr>\n",
       "    <tr>\n",
       "      <th>13</th>\n",
       "      <td>14</td>\n",
       "      <td>Nurul</td>\n",
       "      <td>2</td>\n",
       "      <td>6450000</td>\n",
       "      <td>D</td>\n",
       "      <td>250000</td>\n",
       "      <td>5</td>\n",
       "      <td>1250000</td>\n",
       "      <td>1</td>\n",
       "    </tr>\n",
       "    <tr>\n",
       "      <th>14</th>\n",
       "      <td>15</td>\n",
       "      <td>Retno</td>\n",
       "      <td>2</td>\n",
       "      <td>1000000</td>\n",
       "      <td>C</td>\n",
       "      <td>200000</td>\n",
       "      <td>4</td>\n",
       "      <td>800000</td>\n",
       "      <td>2</td>\n",
       "    </tr>\n",
       "    <tr>\n",
       "      <th>15</th>\n",
       "      <td>16</td>\n",
       "      <td>Rini</td>\n",
       "      <td>2</td>\n",
       "      <td>800000</td>\n",
       "      <td>B</td>\n",
       "      <td>150000</td>\n",
       "      <td>4</td>\n",
       "      <td>600000</td>\n",
       "      <td>1</td>\n",
       "    </tr>\n",
       "    <tr>\n",
       "      <th>16</th>\n",
       "      <td>17</td>\n",
       "      <td>Rizki</td>\n",
       "      <td>1</td>\n",
       "      <td>1200000</td>\n",
       "      <td>C</td>\n",
       "      <td>200000</td>\n",
       "      <td>5</td>\n",
       "      <td>1000000</td>\n",
       "      <td>3</td>\n",
       "    </tr>\n",
       "    <tr>\n",
       "      <th>17</th>\n",
       "      <td>18</td>\n",
       "      <td>Sari</td>\n",
       "      <td>2</td>\n",
       "      <td>700000</td>\n",
       "      <td>D</td>\n",
       "      <td>250000</td>\n",
       "      <td>2</td>\n",
       "      <td>500000</td>\n",
       "      <td>1</td>\n",
       "    </tr>\n",
       "    <tr>\n",
       "      <th>18</th>\n",
       "      <td>19</td>\n",
       "      <td>Tyas</td>\n",
       "      <td>2</td>\n",
       "      <td>600000</td>\n",
       "      <td>A</td>\n",
       "      <td>100000</td>\n",
       "      <td>4</td>\n",
       "      <td>400000</td>\n",
       "      <td>3</td>\n",
       "    </tr>\n",
       "    <tr>\n",
       "      <th>19</th>\n",
       "      <td>20</td>\n",
       "      <td>Wahyu</td>\n",
       "      <td>1</td>\n",
       "      <td>800000</td>\n",
       "      <td>C</td>\n",
       "      <td>200000</td>\n",
       "      <td>3</td>\n",
       "      <td>600000</td>\n",
       "      <td>1</td>\n",
       "    </tr>\n",
       "  </tbody>\n",
       "</table>\n",
       "</div>"
      ],
      "text/plain": [
       "    ID Pelanggan     Nama  Jenis Kelamin  Pendapatan Produk   Harga  Jumlah   \\\n",
       "0              1     Arif              1      600000      A  100000        4   \n",
       "1              2     Dian              2     1200000      D  250000        4   \n",
       "2              3    Dinda              2      950000      D  250000        3   \n",
       "3              4    Fajar              1      400000      A  100000        2   \n",
       "4              5      Ika              2     1200000      D  250000        4   \n",
       "5              6    Ilham              1      800000      B  150000        4   \n",
       "6              7    Indra              1      950000      B  150000        5   \n",
       "7              8  Kartika              2     1100000      E  300000        3   \n",
       "8              9  Lestari              2      800000      E  300000        2   \n",
       "9             10      Lia              2     1700000      E  300000        5   \n",
       "10            11    Maria              2      600000      A  100000        4   \n",
       "11            12     Maya              2      950000      B  150000        5   \n",
       "12            13     Mila              2      400000      C  200000        1   \n",
       "13            14    Nurul              2     6450000      D  250000        5   \n",
       "14            15    Retno              2     1000000      C  200000        4   \n",
       "15            16     Rini              2      800000      B  150000        4   \n",
       "16            17    Rizki              1     1200000      C  200000        5   \n",
       "17            18     Sari              2      700000      D  250000        2   \n",
       "18            19     Tyas              2      600000      A  100000        4   \n",
       "19            20    Wahyu              1      800000      C  200000        3   \n",
       "\n",
       "      Total  Tingkat Kepuasan  \n",
       "0    400000                 2  \n",
       "1   1000000                 2  \n",
       "2    750000                 3  \n",
       "3    200000                 3  \n",
       "4   1000000                 2  \n",
       "5    600000                 3  \n",
       "6    750000                 1  \n",
       "7    900000                 3  \n",
       "8    600000                 1  \n",
       "9   1500000                 1  \n",
       "10   400000                 3  \n",
       "11   750000                 3  \n",
       "12   200000                 2  \n",
       "13  1250000                 1  \n",
       "14   800000                 2  \n",
       "15   600000                 1  \n",
       "16  1000000                 3  \n",
       "17   500000                 1  \n",
       "18   400000                 3  \n",
       "19   600000                 1  "
      ]
     },
     "execution_count": 2,
     "metadata": {},
     "output_type": "execute_result"
    }
   ],
   "source": [
    "import pandas as pd\n",
    "# memuat data bernama 'dataset_statistics.csv' dan memasukkan hasilnya ke dalam 'raw_data'\n",
    "raw_data = pd.read_csv(\"https://storage.googleapis.com/dqlab-dataset/dataset_statistic.csv\", sep=';')\n",
    "raw_data"
   ]
  },
  {
   "cell_type": "markdown",
   "id": "414322c7",
   "metadata": {},
   "source": [
    "### Inspeksi Data"
   ]
  },
  {
   "cell_type": "code",
   "execution_count": 3,
   "id": "9a59a5c6",
   "metadata": {},
   "outputs": [
    {
     "name": "stdout",
     "output_type": "stream",
     "text": [
      "    ID Pelanggan     Nama  Jenis Kelamin  Pendapatan Produk   Harga  Jumlah   \\\n",
      "0              1     Arif              1      600000      A  100000        4   \n",
      "1              2     Dian              2     1200000      D  250000        4   \n",
      "2              3    Dinda              2      950000      D  250000        3   \n",
      "3              4    Fajar              1      400000      A  100000        2   \n",
      "4              5      Ika              2     1200000      D  250000        4   \n",
      "5              6    Ilham              1      800000      B  150000        4   \n",
      "6              7    Indra              1      950000      B  150000        5   \n",
      "7              8  Kartika              2     1100000      E  300000        3   \n",
      "8              9  Lestari              2      800000      E  300000        2   \n",
      "9             10      Lia              2     1700000      E  300000        5   \n",
      "10            11    Maria              2      600000      A  100000        4   \n",
      "11            12     Maya              2      950000      B  150000        5   \n",
      "12            13     Mila              2      400000      C  200000        1   \n",
      "13            14    Nurul              2     6450000      D  250000        5   \n",
      "14            15    Retno              2     1000000      C  200000        4   \n",
      "15            16     Rini              2      800000      B  150000        4   \n",
      "16            17    Rizki              1     1200000      C  200000        5   \n",
      "17            18     Sari              2      700000      D  250000        2   \n",
      "18            19     Tyas              2      600000      A  100000        4   \n",
      "19            20    Wahyu              1      800000      C  200000        3   \n",
      "\n",
      "      Total  Tingkat Kepuasan  \n",
      "0    400000                 2  \n",
      "1   1000000                 2  \n",
      "2    750000                 3  \n",
      "3    200000                 3  \n",
      "4   1000000                 2  \n",
      "5    600000                 3  \n",
      "6    750000                 1  \n",
      "7    900000                 3  \n",
      "8    600000                 1  \n",
      "9   1500000                 1  \n",
      "10   400000                 3  \n",
      "11   750000                 3  \n",
      "12   200000                 2  \n",
      "13  1250000                 1  \n",
      "14   800000                 2  \n",
      "15   600000                 1  \n",
      "16  1000000                 3  \n",
      "17   500000                 1  \n",
      "18   400000                 3  \n",
      "19   600000                 1  \n",
      "   ID Pelanggan     Nama  Jenis Kelamin  Pendapatan Produk   Harga  Jumlah   \\\n",
      "0             1     Arif              1      600000      A  100000        4   \n",
      "1             2     Dian              2     1200000      D  250000        4   \n",
      "2             3    Dinda              2      950000      D  250000        3   \n",
      "3             4    Fajar              1      400000      A  100000        2   \n",
      "4             5      Ika              2     1200000      D  250000        4   \n",
      "5             6    Ilham              1      800000      B  150000        4   \n",
      "6             7    Indra              1      950000      B  150000        5   \n",
      "7             8  Kartika              2     1100000      E  300000        3   \n",
      "8             9  Lestari              2      800000      E  300000        2   \n",
      "9            10      Lia              2     1700000      E  300000        5   \n",
      "\n",
      "     Total  Tingkat Kepuasan  \n",
      "0   400000                 2  \n",
      "1  1000000                 2  \n",
      "2   750000                 3  \n",
      "3   200000                 3  \n",
      "4  1000000                 2  \n",
      "5   600000                 3  \n",
      "6   750000                 1  \n",
      "7   900000                 3  \n",
      "8   600000                 1  \n",
      "9  1500000                 1  \n",
      "    ID Pelanggan   Nama  Jenis Kelamin  Pendapatan Produk   Harga  Jumlah   \\\n",
      "15            16   Rini              2      800000      B  150000        4   \n",
      "16            17  Rizki              1     1200000      C  200000        5   \n",
      "17            18   Sari              2      700000      D  250000        2   \n",
      "18            19   Tyas              2      600000      A  100000        4   \n",
      "19            20  Wahyu              1      800000      C  200000        3   \n",
      "\n",
      "      Total  Tingkat Kepuasan  \n",
      "15   600000                 1  \n",
      "16  1000000                 3  \n",
      "17   500000                 1  \n",
      "18   400000                 3  \n",
      "19   600000                 1  \n"
     ]
    }
   ],
   "source": [
    "import pandas as pd\n",
    "raw_data = pd.read_csv(\"https://storage.googleapis.com/dqlab-dataset/dataset_statistic.csv\", sep=';')\n",
    "\n",
    "print (raw_data)\n",
    "# melihat 10 data pada baris pertama\n",
    "print (raw_data.head(10))\n",
    "\n",
    "# melihat 5 data pada baris terakhir\n",
    "print (raw_data.tail())"
   ]
  },
  {
   "cell_type": "markdown",
   "id": "37ecb926",
   "metadata": {},
   "source": [
    "### Metode Shape"
   ]
  },
  {
   "cell_type": "code",
   "execution_count": 4,
   "id": "589518cd",
   "metadata": {},
   "outputs": [
    {
     "name": "stdout",
     "output_type": "stream",
     "text": [
      "(20, 9)\n"
     ]
    }
   ],
   "source": [
    "import pandas as pd\n",
    "raw_data = pd.read_csv(\"https://storage.googleapis.com/dqlab-dataset/dataset_statistic.csv\", sep=';')\n",
    "\n",
    "# melihat dimensi dari raw_data\n",
    "print (raw_data.shape)"
   ]
  },
  {
   "cell_type": "code",
   "execution_count": 5,
   "id": "c7978466",
   "metadata": {},
   "outputs": [
    {
     "name": "stdout",
     "output_type": "stream",
     "text": [
      "20\n"
     ]
    }
   ],
   "source": [
    "\n",
    "# mengambil jumlah data\n",
    "print (raw_data.shape[0])"
   ]
  },
  {
   "cell_type": "markdown",
   "id": "818f8f68",
   "metadata": {},
   "source": [
    "### Melihat Kolom Dalam Dataset"
   ]
  },
  {
   "cell_type": "code",
   "execution_count": 6,
   "id": "d28c3fe2",
   "metadata": {},
   "outputs": [
    {
     "name": "stdout",
     "output_type": "stream",
     "text": [
      "Index(['ID Pelanggan', 'Nama', 'Jenis Kelamin', 'Pendapatan', 'Produk',\n",
      "       'Harga', 'Jumlah ', 'Total', 'Tingkat Kepuasan'],\n",
      "      dtype='object')\n"
     ]
    }
   ],
   "source": [
    "import pandas as pd\n",
    "raw_data = pd.read_csv(\"https://storage.googleapis.com/dqlab-dataset/dataset_statistic.csv\", sep=';')\n",
    "\n",
    "print(raw_data.columns)"
   ]
  },
  {
   "cell_type": "markdown",
   "id": "505ddf85",
   "metadata": {},
   "source": [
    "### Metode Isna"
   ]
  },
  {
   "cell_type": "code",
   "execution_count": 7,
   "id": "91384a5c",
   "metadata": {},
   "outputs": [
    {
     "name": "stdout",
     "output_type": "stream",
     "text": [
      "    ID Pelanggan   Nama  Jenis Kelamin  Pendapatan  Produk  Harga  Jumlah   \\\n",
      "0          False  False          False       False   False  False    False   \n",
      "1          False  False          False       False   False  False    False   \n",
      "2          False  False          False       False   False  False    False   \n",
      "3          False  False          False       False   False  False    False   \n",
      "4          False  False          False       False   False  False    False   \n",
      "5          False  False          False       False   False  False    False   \n",
      "6          False  False          False       False   False  False    False   \n",
      "7          False  False          False       False   False  False    False   \n",
      "8          False  False          False       False   False  False    False   \n",
      "9          False  False          False       False   False  False    False   \n",
      "10         False  False          False       False   False  False    False   \n",
      "11         False  False          False       False   False  False    False   \n",
      "12         False  False          False       False   False  False    False   \n",
      "13         False  False          False       False   False  False    False   \n",
      "14         False  False          False       False   False  False    False   \n",
      "15         False  False          False       False   False  False    False   \n",
      "16         False  False          False       False   False  False    False   \n",
      "17         False  False          False       False   False  False    False   \n",
      "18         False  False          False       False   False  False    False   \n",
      "19         False  False          False       False   False  False    False   \n",
      "\n",
      "    Total  Tingkat Kepuasan  \n",
      "0   False             False  \n",
      "1   False             False  \n",
      "2   False             False  \n",
      "3   False             False  \n",
      "4   False             False  \n",
      "5   False             False  \n",
      "6   False             False  \n",
      "7   False             False  \n",
      "8   False             False  \n",
      "9   False             False  \n",
      "10  False             False  \n",
      "11  False             False  \n",
      "12  False             False  \n",
      "13  False             False  \n",
      "14  False             False  \n",
      "15  False             False  \n",
      "16  False             False  \n",
      "17  False             False  \n",
      "18  False             False  \n",
      "19  False             False  \n",
      "ID Pelanggan        0\n",
      "Nama                0\n",
      "Jenis Kelamin       0\n",
      "Pendapatan          0\n",
      "Produk              0\n",
      "Harga               0\n",
      "Jumlah              0\n",
      "Total               0\n",
      "Tingkat Kepuasan    0\n",
      "dtype: int64\n"
     ]
    }
   ],
   "source": [
    "import pandas as pd\n",
    "raw_data = pd.read_csv(\"https://storage.googleapis.com/dqlab-dataset/dataset_statistic.csv\", sep=';')\n",
    "\n",
    "print (raw_data.isna())\n",
    "print (raw_data.isna().sum())"
   ]
  },
  {
   "cell_type": "markdown",
   "id": "a6b3d8f8",
   "metadata": {},
   "source": [
    "### Metode Describe"
   ]
  },
  {
   "cell_type": "code",
   "execution_count": 8,
   "id": "74befb0f",
   "metadata": {},
   "outputs": [
    {
     "name": "stdout",
     "output_type": "stream",
     "text": [
      "<bound method NDFrame.describe of     ID Pelanggan     Nama  Jenis Kelamin  Pendapatan Produk   Harga  Jumlah   \\\n",
      "0              1     Arif              1      600000      A  100000        4   \n",
      "1              2     Dian              2     1200000      D  250000        4   \n",
      "2              3    Dinda              2      950000      D  250000        3   \n",
      "3              4    Fajar              1      400000      A  100000        2   \n",
      "4              5      Ika              2     1200000      D  250000        4   \n",
      "5              6    Ilham              1      800000      B  150000        4   \n",
      "6              7    Indra              1      950000      B  150000        5   \n",
      "7              8  Kartika              2     1100000      E  300000        3   \n",
      "8              9  Lestari              2      800000      E  300000        2   \n",
      "9             10      Lia              2     1700000      E  300000        5   \n",
      "10            11    Maria              2      600000      A  100000        4   \n",
      "11            12     Maya              2      950000      B  150000        5   \n",
      "12            13     Mila              2      400000      C  200000        1   \n",
      "13            14    Nurul              2     6450000      D  250000        5   \n",
      "14            15    Retno              2     1000000      C  200000        4   \n",
      "15            16     Rini              2      800000      B  150000        4   \n",
      "16            17    Rizki              1     1200000      C  200000        5   \n",
      "17            18     Sari              2      700000      D  250000        2   \n",
      "18            19     Tyas              2      600000      A  100000        4   \n",
      "19            20    Wahyu              1      800000      C  200000        3   \n",
      "\n",
      "      Total  Tingkat Kepuasan  \n",
      "0    400000                 2  \n",
      "1   1000000                 2  \n",
      "2    750000                 3  \n",
      "3    200000                 3  \n",
      "4   1000000                 2  \n",
      "5    600000                 3  \n",
      "6    750000                 1  \n",
      "7    900000                 3  \n",
      "8    600000                 1  \n",
      "9   1500000                 1  \n",
      "10   400000                 3  \n",
      "11   750000                 3  \n",
      "12   200000                 2  \n",
      "13  1250000                 1  \n",
      "14   800000                 2  \n",
      "15   600000                 1  \n",
      "16  1000000                 3  \n",
      "17   500000                 1  \n",
      "18   400000                 3  \n",
      "19   600000                 1  >\n"
     ]
    },
    {
     "data": {
      "text/plain": [
       "ID Pelanggan             20\n",
       "Nama                  Wahyu\n",
       "Jenis Kelamin             2\n",
       "Pendapatan          6450000\n",
       "Produk                    E\n",
       "Harga                300000\n",
       "Jumlah                    5\n",
       "Total               1500000\n",
       "Tingkat Kepuasan          3\n",
       "dtype: object"
      ]
     },
     "execution_count": 8,
     "metadata": {},
     "output_type": "execute_result"
    }
   ],
   "source": [
    "import pandas as pd\n",
    "raw_data = pd.read_csv(\"https://storage.googleapis.com/dqlab-dataset/dataset_statistic.csv\", sep=';')\n",
    "\n",
    "print (raw_data.describe)\n",
    "\n",
    "# Mencari nilai maksimum dari tiap kolom\n",
    "raw_data.max()"
   ]
  },
  {
   "cell_type": "code",
   "execution_count": 9,
   "id": "18afd6ac",
   "metadata": {},
   "outputs": [
    {
     "data": {
      "text/plain": [
       "300000"
      ]
     },
     "execution_count": 9,
     "metadata": {},
     "output_type": "execute_result"
    }
   ],
   "source": [
    "# Mencari nilai maksimum dari kolom 'Harga'\n",
    "raw_data['Harga'].max()"
   ]
  },
  {
   "cell_type": "code",
   "execution_count": 10,
   "id": "0e6fde90",
   "metadata": {},
   "outputs": [
    {
     "data": {
      "text/plain": [
       "100000"
      ]
     },
     "execution_count": 10,
     "metadata": {},
     "output_type": "execute_result"
    }
   ],
   "source": [
    "# Mencari nilai minimum dari kolom 'Harga'\n",
    "raw_data['Harga'].min()"
   ]
  },
  {
   "cell_type": "markdown",
   "id": "21e352b3",
   "metadata": {},
   "source": [
    "### Metode Sum"
   ]
  },
  {
   "cell_type": "code",
   "execution_count": 11,
   "id": "50c1bc14",
   "metadata": {},
   "outputs": [
    {
     "name": "stdout",
     "output_type": "stream",
     "text": [
      "ID Pelanggan                                                      210\n",
      "Nama                ArifDianDindaFajarIkaIlhamIndraKartikaLestariL...\n",
      "Jenis Kelamin                                                      34\n",
      "Pendapatan                                                   23200000\n",
      "Produk                                           ADDADBBEEEABCDCBCDAC\n",
      "Harga                                                         3950000\n",
      "Jumlah                                                             73\n",
      "Total                                                        14200000\n",
      "Tingkat Kepuasan                                                   41\n",
      "dtype: object\n"
     ]
    },
    {
     "data": {
      "text/plain": [
       "Harga          3950000\n",
       "Pendapatan    23200000\n",
       "dtype: int64"
      ]
     },
     "execution_count": 11,
     "metadata": {},
     "output_type": "execute_result"
    }
   ],
   "source": [
    "import pandas as pd\n",
    "raw_data = pd.read_csv(\"https://storage.googleapis.com/dqlab-dataset/dataset_statistic.csv\", sep=';')\n",
    "\n",
    "# menghitung jumlah dari semua kolom\n",
    "print (raw_data.sum())\n",
    " \n",
    "# menghitung jumlah dari semua kolom bertipe data numerik saja\n",
    "raw_data.sum(numeric_only=True)\n",
    " \n",
    "# menghitung jumlah dari kolom 'Harga' dan 'Pendapatan'\n",
    "raw_data[['Harga', 'Pendapatan']].sum()"
   ]
  },
  {
   "cell_type": "markdown",
   "id": "f7d67689",
   "metadata": {},
   "source": [
    "### Manipulasi Dataframe - Memilih Kolom dan Baris\n",
    "Terkadang kita hanya ingin melakukan analisa sebagian kecil dari data atau hanya beberapa kolom saja, untuk itu kita dapat melakukan slice-and-dice pada data yang kita punya."
   ]
  },
  {
   "cell_type": "code",
   "execution_count": 12,
   "id": "5d0d48bb",
   "metadata": {},
   "outputs": [
    {
     "name": "stdout",
     "output_type": "stream",
     "text": [
      "0      600000\n",
      "1     1200000\n",
      "2      950000\n",
      "3      400000\n",
      "4     1200000\n",
      "5      800000\n",
      "6      950000\n",
      "7     1100000\n",
      "8      800000\n",
      "9     1700000\n",
      "10     600000\n",
      "11     950000\n",
      "12     400000\n",
      "13    6450000\n",
      "14    1000000\n",
      "15     800000\n",
      "16    1200000\n",
      "17     700000\n",
      "18     600000\n",
      "19     800000\n",
      "Name: Pendapatan, dtype: int64\n",
      "    Jenis Kelamin  Pendapatan\n",
      "0               1      600000\n",
      "1               2     1200000\n",
      "2               2      950000\n",
      "3               1      400000\n",
      "4               2     1200000\n",
      "5               1      800000\n",
      "6               1      950000\n",
      "7               2     1100000\n",
      "8               2      800000\n",
      "9               2     1700000\n",
      "10              2      600000\n",
      "11              2      950000\n",
      "12              2      400000\n",
      "13              2     6450000\n",
      "14              2     1000000\n",
      "15              2      800000\n",
      "16              1     1200000\n",
      "17              2      700000\n",
      "18              2      600000\n",
      "19              1      800000\n"
     ]
    }
   ],
   "source": [
    "import pandas as pd\n",
    "raw_data = pd.read_csv(\"https://storage.googleapis.com/dqlab-dataset/dataset_statistic.csv\", sep=';')\n",
    "\n",
    "# Memilih kolom 'Pendapatan' saja\n",
    "print (raw_data['Pendapatan'])\n",
    " \n",
    "# Memilih kolom 'Jenis Kelamin' dan 'Pendapatan'\n",
    "print (raw_data[['Jenis Kelamin', 'Pendapatan']])"
   ]
  },
  {
   "cell_type": "markdown",
   "id": "8834c224",
   "metadata": {},
   "source": [
    "### Metode Loc\n",
    "Untuk memilih baris, kita dapat menggunakan [m:n] untuk mengambil baris data ke-m sampai ke-(n-1) atau bisa juga menggunakan method loc untuk pemilihan baris yang lebih spesifik."
   ]
  },
  {
   "cell_type": "code",
   "execution_count": 13,
   "id": "3fb2c329",
   "metadata": {},
   "outputs": [
    {
     "name": "stdout",
     "output_type": "stream",
     "text": [
      "   ID Pelanggan     Nama  Jenis Kelamin  Pendapatan Produk   Harga  Jumlah   \\\n",
      "0             1     Arif              1      600000      A  100000        4   \n",
      "1             2     Dian              2     1200000      D  250000        4   \n",
      "2             3    Dinda              2      950000      D  250000        3   \n",
      "3             4    Fajar              1      400000      A  100000        2   \n",
      "4             5      Ika              2     1200000      D  250000        4   \n",
      "5             6    Ilham              1      800000      B  150000        4   \n",
      "6             7    Indra              1      950000      B  150000        5   \n",
      "7             8  Kartika              2     1100000      E  300000        3   \n",
      "8             9  Lestari              2      800000      E  300000        2   \n",
      "9            10      Lia              2     1700000      E  300000        5   \n",
      "\n",
      "     Total  Tingkat Kepuasan  \n",
      "0   400000                 2  \n",
      "1  1000000                 2  \n",
      "2   750000                 3  \n",
      "3   200000                 3  \n",
      "4  1000000                 2  \n",
      "5   600000                 3  \n",
      "6   750000                 1  \n",
      "7   900000                 3  \n",
      "8   600000                 1  \n",
      "9  1500000                 1  \n",
      "   ID Pelanggan   Nama  Jenis Kelamin  Pendapatan Produk   Harga  Jumlah   \\\n",
      "3             4  Fajar              1      400000      A  100000        2   \n",
      "4             5    Ika              2     1200000      D  250000        4   \n",
      "\n",
      "     Total  Tingkat Kepuasan  \n",
      "3   200000                 3  \n",
      "4  1000000                 2  \n",
      "    ID Pelanggan   Nama  Jenis Kelamin  Pendapatan Produk   Harga  Jumlah   \\\n",
      "1              2   Dian              2     1200000      D  250000        4   \n",
      "3              4  Fajar              1      400000      A  100000        2   \n",
      "10            11  Maria              2      600000      A  100000        4   \n",
      "\n",
      "      Total  Tingkat Kepuasan  \n",
      "1   1000000                 2  \n",
      "3    200000                 3  \n",
      "10   400000                 3  \n",
      "   Jenis Kelamin  Pendapatan\n",
      "1              2     1200000\n",
      "2              2      950000\n",
      "3              1      400000\n",
      "4              2     1200000\n",
      "5              1      800000\n",
      "6              1      950000\n",
      "7              2     1100000\n",
      "8              2      800000\n",
      "9              2     1700000\n",
      "     Harga  Tingkat Kepuasan\n",
      "1   250000                 2\n",
      "10  100000                 3\n",
      "15  150000                 1\n"
     ]
    }
   ],
   "source": [
    "import pandas as pd\n",
    "raw_data = pd.read_csv(\"https://storage.googleapis.com/dqlab-dataset/dataset_statistic.csv\", sep=';')\n",
    "\n",
    "# Mengambil data dari baris pertama (indeks 0) hingga baris ke-9 (indeks 9), yaitu sebanyak 10 baris\n",
    "print(raw_data[:10])\n",
    " \n",
    "# Mengambil data dari baris ke-4 (indeks 3) hingga baris ke-5 (indeks 4)\n",
    "print(raw_data[3:5])\n",
    " \n",
    "# Mengambil data dari baris ke-2 (indeks 1), baris ke-4 (indeks 3), dan baris ke-11 (indeks 10)\n",
    "print(raw_data.loc[[1,3,10]])\n",
    "\n",
    "# Mengambil kolom 'Jenis Kelamin' dan 'Pendapatan' dari baris ke-2 (indeks 1) hingga baris ke-10 (indeks 9)\n",
    "print(raw_data[['Jenis Kelamin', 'Pendapatan']][1:10])\n",
    " \n",
    "# Mengambil kolom 'Harga' dan 'Tingkat Kepuasan' dari baris ke-2 (indeks 1), baris ke-11 (indeks 10), dan baris ke-16 (indeks 15)\n",
    "print(raw_data[['Harga', 'Tingkat Kepuasan']].loc[[1, 10, 15]])"
   ]
  },
  {
   "cell_type": "markdown",
   "id": "a7577a11",
   "metadata": {},
   "source": [
    "## CHAPTER 3 Ukuran Pusat"
   ]
  },
  {
   "cell_type": "markdown",
   "id": "65fee5b6",
   "metadata": {},
   "source": [
    "### Rata-rata (Mean)"
   ]
  },
  {
   "cell_type": "code",
   "execution_count": 14,
   "id": "b2e096dd",
   "metadata": {},
   "outputs": [
    {
     "name": "stdout",
     "output_type": "stream",
     "text": [
      "550000.0\n",
      "550000.0\n"
     ]
    }
   ],
   "source": [
    "import numpy as np\n",
    "import pandas as pd\n",
    "raw_data = pd.read_csv(\"https://storage.googleapis.com/dqlab-dataset/dataset_statistic.csv\", sep=';')\n",
    "\n",
    "# mengambil hanya data untuk produk 'A'\n",
    "produk_A = raw_data[raw_data['Produk'] == 'A']\n",
    " \n",
    "# menghitung rerata pendapatan menggunakan method .mean pada objek pandas DataFrame\n",
    "print(produk_A['Pendapatan'].mean())\n",
    " \n",
    "# menghitung rerata pendapatan menggunakan method .mean pada objek pandas DataFrame dengan numpy\n",
    "print(np.mean(produk_A['Pendapatan']))"
   ]
  },
  {
   "cell_type": "markdown",
   "id": "0fbb0c7b",
   "metadata": {},
   "source": [
    "### Median"
   ]
  },
  {
   "cell_type": "code",
   "execution_count": 15,
   "id": "9996a478",
   "metadata": {},
   "outputs": [
    {
     "name": "stdout",
     "output_type": "stream",
     "text": [
      "    ID Pelanggan     Nama  Jenis Kelamin  Pendapatan Produk   Harga  Jumlah   \\\n",
      "0              1     Arif              1      600000      A  100000        4   \n",
      "1              2     Dian              2     1200000      D  250000        4   \n",
      "2              3    Dinda              2      950000      D  250000        3   \n",
      "3              4    Fajar              1      400000      A  100000        2   \n",
      "4              5      Ika              2     1200000      D  250000        4   \n",
      "5              6    Ilham              1      800000      B  150000        4   \n",
      "6              7    Indra              1      950000      B  150000        5   \n",
      "7              8  Kartika              2     1100000      E  300000        3   \n",
      "8              9  Lestari              2      800000      E  300000        2   \n",
      "9             10      Lia              2     1700000      E  300000        5   \n",
      "10            11    Maria              2      600000      A  100000        4   \n",
      "11            12     Maya              2      950000      B  150000        5   \n",
      "12            13     Mila              2      400000      C  200000        1   \n",
      "13            14    Nurul              2     6450000      D  250000        5   \n",
      "14            15    Retno              2     1000000      C  200000        4   \n",
      "15            16     Rini              2      800000      B  150000        4   \n",
      "16            17    Rizki              1     1200000      C  200000        5   \n",
      "17            18     Sari              2      700000      D  250000        2   \n",
      "18            19     Tyas              2      600000      A  100000        4   \n",
      "19            20    Wahyu              1      800000      C  200000        3   \n",
      "\n",
      "      Total  Tingkat Kepuasan  \n",
      "0    400000                 2  \n",
      "1   1000000                 2  \n",
      "2    750000                 3  \n",
      "3    200000                 3  \n",
      "4   1000000                 2  \n",
      "5    600000                 3  \n",
      "6    750000                 1  \n",
      "7    900000                 3  \n",
      "8    600000                 1  \n",
      "9   1500000                 1  \n",
      "10   400000                 3  \n",
      "11   750000                 3  \n",
      "12   200000                 2  \n",
      "13  1250000                 1  \n",
      "14   800000                 2  \n",
      "15   600000                 1  \n",
      "16  1000000                 3  \n",
      "17   500000                 1  \n",
      "18   400000                 3  \n",
      "19   600000                 1  \n",
      "600000.0\n",
      "600000.0\n"
     ]
    }
   ],
   "source": [
    "import numpy as np\n",
    "import pandas as pd\n",
    "raw_data = pd.read_csv(\"https://storage.googleapis.com/dqlab-dataset/dataset_statistic.csv\", sep=';')\n",
    "produk_A = raw_data[raw_data['Produk'] == 'A']\n",
    "\n",
    "print (raw_data)\n",
    "# Hitung median dari pendapatan menggunakan pandas\n",
    "print (produk_A['Pendapatan'].median())\n",
    " \n",
    "# Hitung median dari pendapatan menggunakan numpy\n",
    "print (np.median(produk_A['Pendapatan']))"
   ]
  },
  {
   "cell_type": "markdown",
   "id": "014119e4",
   "metadata": {},
   "source": [
    "### Modus"
   ]
  },
  {
   "cell_type": "code",
   "execution_count": 16,
   "id": "21e33c21",
   "metadata": {},
   "outputs": [
    {
     "name": "stdout",
     "output_type": "stream",
     "text": [
      "D    5\n",
      "A    4\n",
      "B    4\n",
      "C    4\n",
      "E    3\n",
      "Name: Produk, dtype: int64\n"
     ]
    }
   ],
   "source": [
    "import pandas as pd\n",
    "raw_data = pd.read_csv(\"https://storage.googleapis.com/dqlab-dataset/dataset_statistic.csv\", sep=';')\n",
    "\n",
    "# Melihat jumlah dari masing-masing produk\n",
    "print(raw_data['Produk'].value_counts())"
   ]
  },
  {
   "cell_type": "markdown",
   "id": "bb907966",
   "metadata": {},
   "source": [
    "### Kuantil\n",
    "Kuantil adalah nilai-nilai data yang membagi data yang telah diurutkan sebelumnya menjadi beberapa bagian yang sama besar ukurannya. Beberapa ukuran fraktil ini diantaranya adalah:\n",
    "\n",
    "- Kuartil: Adalah kuantil yang membagi data menjadi empat bagian sama besar. Kuartil ke-2 dari adalah median dari data tersebut.\n",
    "- Desil: Adalah kuantil yang membagi data menjadi 10 bagian sama besar.\n",
    "- Persentil: Adalah kuantil yang membagi data menjadi 100 bagian sama besar.\n",
    "Untuk mencari fraktil dari data, kita dapat menggunakan method .quantile dari pandas atau numpy sebagaimana contoh berikut:"
   ]
  },
  {
   "cell_type": "code",
   "execution_count": 17,
   "id": "daccc2a6",
   "metadata": {},
   "outputs": [
    {
     "name": "stdout",
     "output_type": "stream",
     "text": [
      "875000.0\n",
      "875000.0\n"
     ]
    }
   ],
   "source": [
    "import numpy as np\n",
    "import pandas as pd\n",
    "raw_data = pd.read_csv(\"https://storage.googleapis.com/dqlab-dataset/dataset_statistic.csv\", sep=';')\n",
    "\n",
    "# mencari median atau 50% dari data menggunakan pandas\n",
    "print(raw_data['Pendapatan'].quantile(q = 0.5))\n",
    " \n",
    "# mencari median atau 50% dari data menggunakan numpy\n",
    "print(np.quantile(raw_data['Pendapatan'], q=0.5))"
   ]
  },
  {
   "cell_type": "markdown",
   "id": "a7b1fe91",
   "metadata": {},
   "source": [
    "### Agregasi Data dengan method .agg()\n",
    "Ada kalanya kita ingin menghitung sekaligus beberapa ukuran, misalnya menghitung nilai mean sekaligus menghitung nilai median. Kita dapat melakukan kedua hal tersebut dengan menggunakan method .agg() pada objek pandas DataFrame sebagaimana contoh berikut:"
   ]
  },
  {
   "cell_type": "code",
   "execution_count": 18,
   "id": "b66a2c4d",
   "metadata": {},
   "outputs": [
    {
     "name": "stdout",
     "output_type": "stream",
     "text": [
      "        Pendapatan     Harga\n",
      "mean     1160000.0  197500.0\n",
      "median    875000.0  200000.0\n"
     ]
    }
   ],
   "source": [
    "import numpy as np\n",
    "import pandas as pd\n",
    "raw_data = pd.read_csv(\"https://storage.googleapis.com/dqlab-dataset/dataset_statistic.csv\", sep=';')\n",
    "\n",
    "# menghitung rerata dan median 'Pendapatan' dan 'Harga'\n",
    "print(raw_data[['Pendapatan', 'Harga']].agg([np.mean, np.median]))"
   ]
  },
  {
   "cell_type": "code",
   "execution_count": 19,
   "id": "6cf54352",
   "metadata": {},
   "outputs": [
    {
     "name": "stdout",
     "output_type": "stream",
     "text": [
      "       Pendapatan                Harga          \n",
      "             mean     median      mean    median\n",
      "Produk                                          \n",
      "A        550000.0   600000.0  100000.0  100000.0\n",
      "B        875000.0   875000.0  150000.0  150000.0\n",
      "C        850000.0   900000.0  200000.0  200000.0\n",
      "D       2100000.0  1200000.0  250000.0  250000.0\n",
      "E       1200000.0  1100000.0  300000.0  300000.0\n"
     ]
    }
   ],
   "source": [
    "# menghitung rerata dan median Pendapatan dan Harga dari tiap produk\n",
    "print(raw_data[['Pendapatan', 'Harga', 'Produk' ]].groupby('Produk').agg([np.mean, np.median]))"
   ]
  },
  {
   "cell_type": "markdown",
   "id": "9e9481e8",
   "metadata": {},
   "source": [
    "## CHAPTER 4 Ukuran Sebaran"
   ]
  },
  {
   "cell_type": "markdown",
   "id": "aaac5ff9",
   "metadata": {},
   "source": [
    "### Proporsi Kategori\n",
    "Proporsi kategori adalah ukuran sebaran yang paling sederhana dari ukuran sebaran pada data nomisal dan ordinal. "
   ]
  },
  {
   "cell_type": "code",
   "execution_count": 20,
   "id": "5286820c",
   "metadata": {},
   "outputs": [
    {
     "name": "stdout",
     "output_type": "stream",
     "text": [
      "D    0.25\n",
      "A    0.20\n",
      "B    0.20\n",
      "C    0.20\n",
      "E    0.15\n",
      "Name: Produk, dtype: float64\n"
     ]
    }
   ],
   "source": [
    "import pandas as pd\n",
    "raw_data = pd.read_csv(\"https://storage.googleapis.com/dqlab-dataset/dataset_statistic.csv\", sep=';')\n",
    "\n",
    "# cari proporsi tiap Produk\n",
    "print (raw_data['Produk'].value_counts()/raw_data.shape[0])"
   ]
  },
  {
   "cell_type": "markdown",
   "id": "29f36948",
   "metadata": {},
   "source": [
    "### Ukuran Sebaran pada Data Interval dan Rasio\n",
    "#### Rentang (range)"
   ]
  },
  {
   "cell_type": "code",
   "execution_count": 21,
   "id": "a06f8060",
   "metadata": {},
   "outputs": [
    {
     "name": "stdout",
     "output_type": "stream",
     "text": [
      "6050000\n"
     ]
    }
   ],
   "source": [
    "import pandas as pd\n",
    "raw_data = pd.read_csv(\"https://storage.googleapis.com/dqlab-dataset/dataset_statistic.csv\", sep=';')\n",
    "\n",
    "# Cari nilai rentang dari kolom 'Pendapatan'\n",
    "print (raw_data['Pendapatan'].max() - raw_data['Pendapatan'].min())"
   ]
  },
  {
   "cell_type": "markdown",
   "id": "1c7196b8",
   "metadata": {},
   "source": [
    "### Variansi\n",
    "Variansi adalah ukuran sebaran pusat yang diperoleh dengan cara menghitung jarak antara tiap titik data pada sampel atau populasi dengan nilai mean"
   ]
  },
  {
   "cell_type": "code",
   "execution_count": 22,
   "id": "4c5065fc",
   "metadata": {},
   "outputs": [
    {
     "name": "stdout",
     "output_type": "stream",
     "text": [
      "1645684210526.3157\n",
      "1563400000000.0\n",
      "1563400000000.0\n"
     ]
    }
   ],
   "source": [
    "import numpy as np\n",
    "import pandas as pd\n",
    "raw_data = pd.read_csv(\"https://storage.googleapis.com/dqlab-dataset/dataset_statistic.csv\", sep=';')\n",
    "\n",
    "# menghitung variansi Pendapatan menggunakan method .var() dari pandas\n",
    "print (raw_data['Pendapatan'].var())\n",
    " \n",
    "# menghitung variansi Pendapatan menggunakan method .var() dari numpy\n",
    "print (np.var(raw_data['Pendapatan']))\n",
    "\n",
    "# mengatur variansi populasi dengan method `.var()` dari pandas\n",
    "print (raw_data['Pendapatan'].var(ddof = 0))"
   ]
  },
  {
   "cell_type": "markdown",
   "id": "9c630b08",
   "metadata": {},
   "source": [
    "### Deviasi Baku (Standard Deviation)\n",
    "Deviasi baku adalah ukuran sebaran pusat yang diperoleh dengan cara menarik akar kuadrat dari hasil perhitungan variansi. Hal ini dilakukan karena nilai variansi umumnya memiliki nilai yang lebih besar daripada nilai aslinya sebagai efek dari pengkuadratan dan ini menjadikan variansi sulit untuk diinterpretasikan."
   ]
  },
  {
   "cell_type": "code",
   "execution_count": 23,
   "id": "ac6b53aa",
   "metadata": {},
   "outputs": [
    {
     "name": "stdout",
     "output_type": "stream",
     "text": [
      "1282842.2391417876\n",
      "1282842.2391417876\n"
     ]
    }
   ],
   "source": [
    "import numpy as np\n",
    "import pandas as pd\n",
    "raw_data = pd.read_csv(\"https://storage.googleapis.com/dqlab-dataset/dataset_statistic.csv\", sep=';')\n",
    "\n",
    "# menghitung deviasi baku sampel pendapatan menggunakan method std() dari pandas\n",
    "print (raw_data['Pendapatan'].std())\n",
    " \n",
    "# menghitung deviasi baku sampel pendapatan menggunakan method std() dari numpy\n",
    "print (np.std(raw_data['Pendapatan'], ddof = 1))"
   ]
  },
  {
   "cell_type": "markdown",
   "id": "af5bb961",
   "metadata": {},
   "source": [
    "## CHAPTER 5 Korelasi\n",
    "\n",
    "### Menghitung Korelasi\n",
    "Untuk menghitung korelasi antara kedua variabel, kita dapat menggunakan method .corr() dari pandas sebagaimana contoh berikut: "
   ]
  },
  {
   "cell_type": "code",
   "execution_count": 24,
   "id": "4c5e568f",
   "metadata": {},
   "outputs": [
    {
     "name": "stdout",
     "output_type": "stream",
     "text": [
      "                  ID Pelanggan  Jenis Kelamin  Pendapatan     Harga   Jumlah   \\\n",
      "ID Pelanggan          1.000000       0.151375    0.110958 -0.028707  0.011289   \n",
      "Jenis Kelamin         0.151375       1.000000    0.192849  0.457555 -0.104168   \n",
      "Pendapatan            0.110958       0.192849    1.000000  0.322443  0.399825   \n",
      "Harga                -0.028707       0.457555    0.322443  1.000000 -0.138883   \n",
      "Jumlah                0.011289      -0.104168    0.399825 -0.138883  1.000000   \n",
      "Total                -0.039968       0.238051    0.592044  0.645455  0.636097   \n",
      "Tingkat Kepuasan     -0.245717      -0.088339   -0.312663 -0.380798  0.017568   \n",
      "\n",
      "                     Total  Tingkat Kepuasan  \n",
      "ID Pelanggan     -0.039968         -0.245717  \n",
      "Jenis Kelamin     0.238051         -0.088339  \n",
      "Pendapatan        0.592044         -0.312663  \n",
      "Harga             0.645455         -0.380798  \n",
      "Jumlah            0.636097          0.017568  \n",
      "Total             1.000000         -0.268345  \n",
      "Tingkat Kepuasan -0.268345          1.000000  \n"
     ]
    },
    {
     "name": "stderr",
     "output_type": "stream",
     "text": [
      "C:\\Users\\rafif\\AppData\\Local\\Temp\\ipykernel_2360\\2406580447.py:5: FutureWarning: The default value of numeric_only in DataFrame.corr is deprecated. In a future version, it will default to False. Select only valid columns or specify the value of numeric_only to silence this warning.\n",
      "  print (raw_data.corr())\n"
     ]
    }
   ],
   "source": [
    "import pandas as pd\n",
    "raw_data = pd.read_csv(\"https://storage.googleapis.com/dqlab-dataset/dataset_statistic.csv\", sep=';')\n",
    "\n",
    "# menghitung korelasi dari setiap pasang variabel pada raw_data\n",
    "print (raw_data.corr())"
   ]
  },
  {
   "cell_type": "code",
   "execution_count": 25,
   "id": "6c117aa7",
   "metadata": {},
   "outputs": [
    {
     "name": "stderr",
     "output_type": "stream",
     "text": [
      "C:\\Users\\rafif\\AppData\\Local\\Temp\\ipykernel_2360\\3799766384.py:2: FutureWarning: The default value of numeric_only in DataFrame.corr is deprecated. In a future version, it will default to False. Select only valid columns or specify the value of numeric_only to silence this warning.\n",
      "  print (raw_data.corr(method='kendall'))\n"
     ]
    },
    {
     "name": "stdout",
     "output_type": "stream",
     "text": [
      "                  ID Pelanggan  Jenis Kelamin  Pendapatan     Harga   Jumlah   \\\n",
      "ID Pelanggan          1.000000       0.126650   -0.054998 -0.005753  0.024016   \n",
      "Jenis Kelamin         0.126650       1.000000    0.190245  0.415339 -0.090299   \n",
      "Pendapatan           -0.054998       0.190245    1.000000  0.523053  0.501925   \n",
      "Harga                -0.005753       0.415339    0.523053  1.000000 -0.098450   \n",
      "Jumlah                0.024016      -0.090299    0.501925 -0.098450  1.000000   \n",
      "Total                -0.065998       0.190245    0.988506  0.535078  0.501925   \n",
      "Tingkat Kepuasan     -0.183817      -0.085796   -0.165588 -0.325659 -0.028923   \n",
      "\n",
      "                     Total  Tingkat Kepuasan  \n",
      "ID Pelanggan     -0.065998         -0.183817  \n",
      "Jenis Kelamin     0.190245         -0.085796  \n",
      "Pendapatan        0.988506         -0.165588  \n",
      "Harga             0.535078         -0.325659  \n",
      "Jumlah            0.501925         -0.028923  \n",
      "Total             1.000000         -0.165588  \n",
      "Tingkat Kepuasan -0.165588          1.000000  \n",
      "                  ID Pelanggan  Jenis Kelamin  Pendapatan     Harga   Jumlah   \\\n",
      "ID Pelanggan          1.000000       0.151375   -0.063711 -0.039149  0.046356   \n",
      "Jenis Kelamin         0.151375       1.000000    0.219508  0.463635 -0.098864   \n",
      "Pendapatan           -0.063711       0.219508    1.000000  0.640000  0.607110   \n",
      "Harga                -0.039149       0.463635    0.640000  1.000000 -0.130749   \n",
      "Jumlah                0.046356      -0.098864    0.607110 -0.130749  1.000000   \n",
      "Total                -0.069779       0.219508    0.998470  0.646194  0.607110   \n",
      "Tingkat Kepuasan     -0.238890      -0.090784   -0.192463 -0.378933 -0.023874   \n",
      "\n",
      "                     Total  Tingkat Kepuasan  \n",
      "ID Pelanggan     -0.069779         -0.238890  \n",
      "Jenis Kelamin     0.219508         -0.090784  \n",
      "Pendapatan        0.998470         -0.192463  \n",
      "Harga             0.646194         -0.378933  \n",
      "Jumlah            0.607110         -0.023874  \n",
      "Total             1.000000         -0.192463  \n",
      "Tingkat Kepuasan -0.192463          1.000000  \n"
     ]
    },
    {
     "name": "stderr",
     "output_type": "stream",
     "text": [
      "C:\\Users\\rafif\\AppData\\Local\\Temp\\ipykernel_2360\\3799766384.py:5: FutureWarning: The default value of numeric_only in DataFrame.corr is deprecated. In a future version, it will default to False. Select only valid columns or specify the value of numeric_only to silence this warning.\n",
      "  print (raw_data.corr(method='spearman'))\n"
     ]
    }
   ],
   "source": [
    "# mencari korelasi 'kendall' untuk tiap pasang variabel\n",
    "print (raw_data.corr(method='kendall'))\n",
    " \n",
    "# mencari korelasi 'spearman' untuk tiap pasang variabel\n",
    "print (raw_data.corr(method='spearman'))"
   ]
  }
 ],
 "metadata": {
  "kernelspec": {
   "display_name": "base",
   "language": "python",
   "name": "python3"
  },
  "language_info": {
   "codemirror_mode": {
    "name": "ipython",
    "version": 3
   },
   "file_extension": ".py",
   "mimetype": "text/x-python",
   "name": "python",
   "nbconvert_exporter": "python",
   "pygments_lexer": "ipython3",
   "version": "3.10.9"
  }
 },
 "nbformat": 4,
 "nbformat_minor": 5
}
