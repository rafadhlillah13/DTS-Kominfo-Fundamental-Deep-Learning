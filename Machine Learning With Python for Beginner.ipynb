{
 "cells": [
  {
   "cell_type": "markdown",
   "id": "b2455dac",
   "metadata": {},
   "source": [
    "# Machine Learning With Python for Beginner"
   ]
  },
  {
   "cell_type": "markdown",
   "id": "b245d6ff",
   "metadata": {},
   "source": [
    "## CHAPTER 2 Eksplorasi Data & Data Pre-processing\n",
    "### Eksplorasi Data: Memahami Data dengan Statistik - Part 1\n"
   ]
  },
  {
   "cell_type": "code",
   "execution_count": 1,
   "id": "3869c696",
   "metadata": {},
   "outputs": [
    {
     "name": "stdout",
     "output_type": "stream",
     "text": [
      "Shape dataset: (12330, 18)\n",
      "\n",
      "Lima data teratas:\n",
      "    Administrative  Administrative_Duration  Informational  \\\n",
      "0             0.0                      0.0            0.0   \n",
      "1             0.0                      0.0            0.0   \n",
      "2             0.0                     -1.0            0.0   \n",
      "3             0.0                      0.0            0.0   \n",
      "4             0.0                      0.0            0.0   \n",
      "\n",
      "   Informational_Duration  ProductRelated  ProductRelated_Duration  \\\n",
      "0                     0.0             1.0                 0.000000   \n",
      "1                     0.0             2.0                64.000000   \n",
      "2                    -1.0             1.0                -1.000000   \n",
      "3                     0.0             2.0                 2.666667   \n",
      "4                     0.0            10.0               627.500000   \n",
      "\n",
      "   BounceRates  ExitRates  PageValues  SpecialDay Month  OperatingSystems  \\\n",
      "0         0.20       0.20         0.0         0.0   Feb                 1   \n",
      "1         0.00       0.10         0.0         0.0   Feb                 2   \n",
      "2         0.20       0.20         0.0         0.0   Feb                 4   \n",
      "3         0.05       0.14         0.0         0.0   Feb                 3   \n",
      "4         0.02       0.05         0.0         0.0   Feb                 3   \n",
      "\n",
      "   Browser  Region  TrafficType        VisitorType  Weekend  Revenue  \n",
      "0        1       1            1  Returning_Visitor    False    False  \n",
      "1        2       1            2  Returning_Visitor    False    False  \n",
      "2        1       9            3  Returning_Visitor    False    False  \n",
      "3        2       2            4  Returning_Visitor    False    False  \n",
      "4        3       1            4  Returning_Visitor     True    False  \n",
      "\n",
      "Informasi dataset:\n",
      "<class 'pandas.core.frame.DataFrame'>\n",
      "RangeIndex: 12330 entries, 0 to 12329\n",
      "Data columns (total 18 columns):\n",
      " #   Column                   Non-Null Count  Dtype  \n",
      "---  ------                   --------------  -----  \n",
      " 0   Administrative           12316 non-null  float64\n",
      " 1   Administrative_Duration  12316 non-null  float64\n",
      " 2   Informational            12316 non-null  float64\n",
      " 3   Informational_Duration   12316 non-null  float64\n",
      " 4   ProductRelated           12316 non-null  float64\n",
      " 5   ProductRelated_Duration  12316 non-null  float64\n",
      " 6   BounceRates              12316 non-null  float64\n",
      " 7   ExitRates                12316 non-null  float64\n",
      " 8   PageValues               12330 non-null  float64\n",
      " 9   SpecialDay               12330 non-null  float64\n",
      " 10  Month                    12330 non-null  object \n",
      " 11  OperatingSystems         12330 non-null  int64  \n",
      " 12  Browser                  12330 non-null  int64  \n",
      " 13  Region                   12330 non-null  int64  \n",
      " 14  TrafficType              12330 non-null  int64  \n",
      " 15  VisitorType              12330 non-null  object \n",
      " 16  Weekend                  12330 non-null  bool   \n",
      " 17  Revenue                  12330 non-null  bool   \n",
      "dtypes: bool(2), float64(10), int64(4), object(2)\n",
      "memory usage: 1.5+ MB\n",
      "None\n",
      "\n",
      "Statistik deskriptif:\n",
      "        Administrative  Administrative_Duration  Informational  \\\n",
      "count    12316.000000             12316.000000   12316.000000   \n",
      "mean         2.317798                80.906176       0.503979   \n",
      "std          3.322754               176.860432       1.270701   \n",
      "min          0.000000                -1.000000       0.000000   \n",
      "25%          0.000000                 0.000000       0.000000   \n",
      "50%          1.000000                 8.000000       0.000000   \n",
      "75%          4.000000                93.500000       0.000000   \n",
      "max         27.000000              3398.750000      24.000000   \n",
      "\n",
      "       Informational_Duration  ProductRelated  ProductRelated_Duration  \\\n",
      "count            12316.000000    12316.000000             12316.000000   \n",
      "mean                34.506387       31.763884              1196.037057   \n",
      "std                140.825479       44.490339              1914.372511   \n",
      "min                 -1.000000        0.000000                -1.000000   \n",
      "25%                  0.000000        7.000000               185.000000   \n",
      "50%                  0.000000       18.000000               599.766190   \n",
      "75%                  0.000000       38.000000              1466.479902   \n",
      "max               2549.375000      705.000000             63973.522230   \n",
      "\n",
      "        BounceRates     ExitRates    PageValues    SpecialDay  \\\n",
      "count  12316.000000  12316.000000  12330.000000  12330.000000   \n",
      "mean       0.022152      0.043003      5.889258      0.061427   \n",
      "std        0.048427      0.048527     18.568437      0.198917   \n",
      "min        0.000000      0.000000      0.000000      0.000000   \n",
      "25%        0.000000      0.014286      0.000000      0.000000   \n",
      "50%        0.003119      0.025124      0.000000      0.000000   \n",
      "75%        0.016684      0.050000      0.000000      0.000000   \n",
      "max        0.200000      0.200000    361.763742      1.000000   \n",
      "\n",
      "       OperatingSystems       Browser        Region   TrafficType  \n",
      "count      12330.000000  12330.000000  12330.000000  12330.000000  \n",
      "mean           2.124006      2.357097      3.147364      4.069586  \n",
      "std            0.911325      1.717277      2.401591      4.025169  \n",
      "min            1.000000      1.000000      1.000000      1.000000  \n",
      "25%            2.000000      2.000000      1.000000      2.000000  \n",
      "50%            2.000000      2.000000      3.000000      2.000000  \n",
      "75%            3.000000      2.000000      4.000000      4.000000  \n",
      "max            8.000000     13.000000      9.000000     20.000000  \n"
     ]
    }
   ],
   "source": [
    "import pandas as pd\n",
    "dataset = pd.read_csv('https://storage.googleapis.com/dqlab-dataset/pythonTutorial/online_raw.csv')\n",
    "print('Shape dataset:', dataset.shape)\n",
    "print('\\nLima data teratas:\\n', dataset.head())\n",
    "print('\\nInformasi dataset:')\n",
    "print(dataset.info())\n",
    "print('\\nStatistik deskriptif:\\n', dataset.describe())"
   ]
  },
  {
   "cell_type": "markdown",
   "id": "f39a5708",
   "metadata": {},
   "source": [
    "### Eksplorasi Data: Memahami Data dengan Statistik - Part 2"
   ]
  },
  {
   "cell_type": "code",
   "execution_count": 2,
   "id": "b5a0d462",
   "metadata": {},
   "outputs": [
    {
     "name": "stdout",
     "output_type": "stream",
     "text": [
      "Korelasi dataset:\n",
      "                          Administrative  Administrative_Duration  \\\n",
      "Administrative                 1.000000                 0.601466   \n",
      "Administrative_Duration        0.601466                 1.000000   \n",
      "Informational                  0.376782                 0.302647   \n",
      "Informational_Duration         0.255757                 0.237959   \n",
      "ProductRelated                 0.430832                 0.288869   \n",
      "ProductRelated_Duration        0.373647                 0.355238   \n",
      "BounceRates                   -0.223474                -0.144128   \n",
      "ExitRates                     -0.316192                -0.205618   \n",
      "PageValues                     0.098771                 0.067463   \n",
      "SpecialDay                    -0.095054                -0.073472   \n",
      "OperatingSystems              -0.006459                -0.007425   \n",
      "Browser                       -0.025243                -0.015525   \n",
      "Region                        -0.005680                -0.005681   \n",
      "TrafficType                   -0.033748                -0.014487   \n",
      "Weekend                        0.026404                 0.014987   \n",
      "Revenue                        0.138631                 0.093395   \n",
      "\n",
      "                         Informational  Informational_Duration  \\\n",
      "Administrative                0.376782                0.255757   \n",
      "Administrative_Duration       0.302647                0.237959   \n",
      "Informational                 1.000000                0.618965   \n",
      "Informational_Duration        0.618965                1.000000   \n",
      "ProductRelated                0.374098                0.279966   \n",
      "ProductRelated_Duration       0.387446                0.347300   \n",
      "BounceRates                  -0.116071               -0.074077   \n",
      "ExitRates                    -0.163539               -0.105205   \n",
      "PageValues                    0.048539                0.030787   \n",
      "SpecialDay                   -0.048328               -0.030658   \n",
      "OperatingSystems             -0.009435               -0.009596   \n",
      "Browser                      -0.038257               -0.019346   \n",
      "Region                       -0.029442               -0.027244   \n",
      "TrafficType                  -0.034510               -0.024731   \n",
      "Weekend                       0.035557                0.024054   \n",
      "Revenue                       0.095085                0.070250   \n",
      "\n",
      "                         ProductRelated  ProductRelated_Duration  BounceRates  \\\n",
      "Administrative                 0.430832                 0.373647    -0.223474   \n",
      "Administrative_Duration        0.288869                 0.355238    -0.144128   \n",
      "Informational                  0.374098                 0.387446    -0.116071   \n",
      "Informational_Duration         0.279966                 0.347300    -0.074077   \n",
      "ProductRelated                 1.000000                 0.860868    -0.204469   \n",
      "ProductRelated_Duration        0.860868                 1.000000    -0.184409   \n",
      "BounceRates                   -0.204469                -0.184409     1.000000   \n",
      "ExitRates                     -0.292219                -0.251645     0.913436   \n",
      "PageValues                     0.056067                 0.052623    -0.119357   \n",
      "SpecialDay                    -0.024190                -0.036598     0.073088   \n",
      "OperatingSystems               0.004193                 0.002885     0.023965   \n",
      "Browser                       -0.013326                -0.007549    -0.016009   \n",
      "Region                        -0.038318                -0.033263    -0.006731   \n",
      "TrafficType                   -0.043235                -0.036538     0.078894   \n",
      "Weekend                        0.016097                 0.007293    -0.046870   \n",
      "Revenue                        0.158280                 0.152130    -0.150621   \n",
      "\n",
      "                         ExitRates  PageValues  SpecialDay  OperatingSystems  \\\n",
      "Administrative           -0.316192    0.098771   -0.095054         -0.006459   \n",
      "Administrative_Duration  -0.205618    0.067463   -0.073472         -0.007425   \n",
      "Informational            -0.163539    0.048539   -0.048328         -0.009435   \n",
      "Informational_Duration   -0.105205    0.030787   -0.030658         -0.009596   \n",
      "ProductRelated           -0.292219    0.056067   -0.024190          0.004193   \n",
      "ProductRelated_Duration  -0.251645    0.052623   -0.036598          0.002885   \n",
      "BounceRates               0.913436   -0.119357    0.073088          0.023965   \n",
      "ExitRates                 1.000000   -0.174397    0.102899          0.014745   \n",
      "PageValues               -0.174397    1.000000   -0.063541          0.018508   \n",
      "SpecialDay                0.102899   -0.063541    1.000000          0.012652   \n",
      "OperatingSystems          0.014745    0.018508    0.012652          1.000000   \n",
      "Browser                  -0.004407    0.045592    0.003499          0.223013   \n",
      "Region                   -0.008836    0.011315   -0.016098          0.076775   \n",
      "TrafficType               0.078998    0.012532    0.052301          0.189154   \n",
      "Weekend                  -0.062942    0.012002   -0.016767          0.000284   \n",
      "Revenue                  -0.206886    0.492569   -0.082305         -0.014668   \n",
      "\n",
      "                          Browser    Region  TrafficType   Weekend   Revenue  \n",
      "Administrative          -0.025243 -0.005680    -0.033748  0.026404  0.138631  \n",
      "Administrative_Duration -0.015525 -0.005681    -0.014487  0.014987  0.093395  \n",
      "Informational           -0.038257 -0.029442    -0.034510  0.035557  0.095085  \n",
      "Informational_Duration  -0.019346 -0.027244    -0.024731  0.024054  0.070250  \n",
      "ProductRelated          -0.013326 -0.038318    -0.043235  0.016097  0.158280  \n",
      "ProductRelated_Duration -0.007549 -0.033263    -0.036538  0.007293  0.152130  \n",
      "BounceRates             -0.016009 -0.006731     0.078894 -0.046870 -0.150621  \n",
      "ExitRates               -0.004407 -0.008836     0.078998 -0.062942 -0.206886  \n",
      "PageValues               0.045592  0.011315     0.012532  0.012002  0.492569  \n",
      "SpecialDay               0.003499 -0.016098     0.052301 -0.016767 -0.082305  \n",
      "OperatingSystems         0.223013  0.076775     0.189154  0.000284 -0.014668  \n",
      "Browser                  1.000000  0.097393     0.111938 -0.040261  0.023984  \n",
      "Region                   0.097393  1.000000     0.047520 -0.000691 -0.011595  \n",
      "TrafficType              0.111938  0.047520     1.000000 -0.002221 -0.005113  \n",
      "Weekend                 -0.040261 -0.000691    -0.002221  1.000000  0.029295  \n",
      "Revenue                  0.023984 -0.011595    -0.005113  0.029295  1.000000  \n",
      "Distribusi Label (Revenue):\n",
      " False    10422\n",
      "True      1908\n",
      "Name: Revenue, dtype: int64\n",
      "\n",
      "Korelasi BounceRates-ExitRates: 0.9134364214595573\n",
      "\n",
      "Korelasi Revenue-PageValues: 0.49256929525120574\n",
      "\n",
      "Korelasi TrafficType-Weekend: -0.0022212292430310644\n"
     ]
    },
    {
     "name": "stderr",
     "output_type": "stream",
     "text": [
      "C:\\Users\\rafif\\AppData\\Local\\Temp\\ipykernel_25184\\647700473.py:4: FutureWarning: The default value of numeric_only in DataFrame.corr is deprecated. In a future version, it will default to False. Select only valid columns or specify the value of numeric_only to silence this warning.\n",
      "  dataset_corr = dataset.corr()\n",
      "C:\\Users\\rafif\\AppData\\Local\\Temp\\ipykernel_25184\\647700473.py:5: FutureWarning: The default value of numeric_only in DataFrame.corr is deprecated. In a future version, it will default to False. Select only valid columns or specify the value of numeric_only to silence this warning.\n",
      "  print('Korelasi dataset:\\n', dataset.corr())\n"
     ]
    }
   ],
   "source": [
    "import pandas as pd\n",
    "dataset = pd.read_csv('https://storage.googleapis.com/dqlab-dataset/pythonTutorial/online_raw.csv')\n",
    "\n",
    "dataset_corr = dataset.corr()\n",
    "print('Korelasi dataset:\\n', dataset.corr())\n",
    "print('Distribusi Label (Revenue):\\n', dataset['Revenue'].value_counts())\n",
    "# Tugas praktek\n",
    "print('\\nKorelasi BounceRates-ExitRates:', dataset_corr.loc['BounceRates', 'ExitRates'])\n",
    "print('\\nKorelasi Revenue-PageValues:', dataset_corr.loc['Revenue', 'PageValues'])\n",
    "print('\\nKorelasi TrafficType-Weekend:', dataset_corr.loc['TrafficType', 'Weekend'])"
   ]
  },
  {
   "cell_type": "markdown",
   "id": "02588fb8",
   "metadata": {},
   "source": [
    "### Eksplorasi Data: Memahami Data dengan Visual"
   ]
  },
  {
   "cell_type": "code",
   "execution_count": 3,
   "id": "8a2180e0",
   "metadata": {},
   "outputs": [
    {
     "data": {
      "image/png": "[encoded data removed]",
      "text/plain": [
       "<Figure size 432x288 with 2 Axes>"
      ]
     },
     "metadata": {
      "needs_background": "light"
     },
     "output_type": "display_data"
    }
   ],
   "source": [
    "import pandas as pd\n",
    "import matplotlib.pyplot as plt\n",
    "import seaborn as sns\n",
    "\n",
    "dataset = pd.read_csv('https://storage.googleapis.com/dqlab-dataset/pythonTutorial/online_raw.csv')\n",
    "\n",
    "# checking the Distribution of customers on Revenue\n",
    "plt.rcParams['figure.figsize'] = (12,5)\n",
    "plt.subplot(1, 2, 1)\n",
    "sns.countplot(dataset['Revenue'], palette = 'pastel')\n",
    "plt.title('Buy or Not', fontsize = 20)\n",
    "plt.xlabel('revenue or not', fontsize = 14)\n",
    "plt.ylabel('count', fontsize = 14)\n",
    "# checking the Distribution of customers on Weekend\n",
    "plt.subplot(1, 2, 2)\n",
    "sns.countplot(dataset['Weekend'], palette = 'inferno')\n",
    "plt.title('Purchase on Weekends', fontsize = 20)\n",
    "plt.xlabel('Weekend or not', fontsize = 14)\n",
    "plt.ylabel('count', fontsize = 14)\n",
    "plt.show()"
   ]
  },
  {
   "cell_type": "markdown",
   "id": "42351ec1",
   "metadata": {},
   "source": [
    "### Tugas Praktek\n",
    "Aku kemudian diminta Senja untuk membuat visualisasi berupa histogram yang menggambarkan jumlah customer untuk setiap Region.\n",
    "\n",
    "Dalam membuat visualisasi ini aku akan menggunakan dataset['Region'] untuk membuat histogram, dan berikan judul 'Distribution of Customers' pada title, 'Region Codes' sebagai label axis-x dan 'Count Users' sebagai label axis-y.\n",
    "\n",
    "Berikut tampilan dari histogram yang dimaksud setelah aku menjalankan kode dengan benar. "
   ]
  },
  {
   "cell_type": "code",
   "execution_count": 4,
   "id": "16136107",
   "metadata": {},
   "outputs": [
    {
     "data": {
      "image/png": "[encoded data removed]",
      "text/plain": [
       "<Figure size 432x288 with 1 Axes>"
      ]
     },
     "metadata": {
      "needs_background": "light"
     },
     "output_type": "display_data"
    }
   ],
   "source": [
    "import pandas as pd\n",
    "import matplotlib.pyplot as plt\n",
    "import seaborn as sns\n",
    "\n",
    "dataset = pd.read_csv('https://storage.googleapis.com/dqlab-dataset/pythonTutorial/online_raw.csv')\n",
    "\n",
    "# visualizing the distribution of customers around the Region\n",
    "plt.hist(dataset['Region'], color = 'lightblue')\n",
    "plt.title('Distribution of Customers', fontsize = 20)\n",
    "plt.xlabel('Region Codes', fontsize = 14)\n",
    "plt.ylabel('Count Users', fontsize = 14)\n",
    "plt.show()"
   ]
  },
  {
   "cell_type": "markdown",
   "id": "9ff217b1",
   "metadata": {},
   "source": [
    "### Data Pre-processing: Handling Missing Value - Part 1"
   ]
  },
  {
   "cell_type": "code",
   "execution_count": 5,
   "id": "642470eb",
   "metadata": {},
   "outputs": [
    {
     "name": "stdout",
     "output_type": "stream",
     "text": [
      "Checking missing value for each feature:\n",
      "Administrative             14\n",
      "Administrative_Duration    14\n",
      "Informational              14\n",
      "Informational_Duration     14\n",
      "ProductRelated             14\n",
      "ProductRelated_Duration    14\n",
      "BounceRates                14\n",
      "ExitRates                  14\n",
      "PageValues                  0\n",
      "SpecialDay                  0\n",
      "Month                       0\n",
      "OperatingSystems            0\n",
      "Browser                     0\n",
      "Region                      0\n",
      "TrafficType                 0\n",
      "VisitorType                 0\n",
      "Weekend                     0\n",
      "Revenue                     0\n",
      "dtype: int64\n",
      "\n",
      "Counting total missing value:\n",
      "112\n"
     ]
    }
   ],
   "source": [
    "import pandas as pd\n",
    "dataset = pd.read_csv('https://storage.googleapis.com/dqlab-dataset/pythonTutorial/online_raw.csv')\n",
    "\n",
    "#checking missing value for each feature  \n",
    "print('Checking missing value for each feature:')\n",
    "print(dataset.isnull().sum())\n",
    "#Counting total missing value\n",
    "print('\\nCounting total missing value:')\n",
    "print(dataset.isnull().sum().sum())"
   ]
  },
  {
   "cell_type": "markdown",
   "id": "05b2bd6c",
   "metadata": {},
   "source": [
    "### Data Pre-processing: Handling Missing Value - Part 2"
   ]
  },
  {
   "cell_type": "code",
   "execution_count": 6,
   "id": "12211276",
   "metadata": {},
   "outputs": [
    {
     "name": "stdout",
     "output_type": "stream",
     "text": [
      "Ukuran dataset_clean: (12316, 18)\n"
     ]
    }
   ],
   "source": [
    "import pandas as pd\n",
    "dataset = pd.read_csv('https://storage.googleapis.com/dqlab-dataset/pythonTutorial/online_raw.csv')\n",
    "\n",
    "#Drop rows with missing value   \n",
    "dataset_clean = dataset.dropna()  \n",
    "print('Ukuran dataset_clean:', dataset_clean.shape) "
   ]
  },
  {
   "cell_type": "markdown",
   "id": "284cb685",
   "metadata": {},
   "source": [
    "### Data Pre-processing: Handling Missing Value - Part 3"
   ]
  },
  {
   "cell_type": "code",
   "execution_count": 7,
   "id": "40dc6060",
   "metadata": {},
   "outputs": [
    {
     "name": "stdout",
     "output_type": "stream",
     "text": [
      "Before imputation:\n",
      "Administrative             14\n",
      "Administrative_Duration    14\n",
      "Informational              14\n",
      "Informational_Duration     14\n",
      "ProductRelated             14\n",
      "ProductRelated_Duration    14\n",
      "BounceRates                14\n",
      "ExitRates                  14\n",
      "PageValues                  0\n",
      "SpecialDay                  0\n",
      "Month                       0\n",
      "OperatingSystems            0\n",
      "Browser                     0\n",
      "Region                      0\n",
      "TrafficType                 0\n",
      "VisitorType                 0\n",
      "Weekend                     0\n",
      "Revenue                     0\n",
      "dtype: int64\n",
      "112\n",
      "\n",
      "After imputation:\n",
      "Administrative             0\n",
      "Administrative_Duration    0\n",
      "Informational              0\n",
      "Informational_Duration     0\n",
      "ProductRelated             0\n",
      "ProductRelated_Duration    0\n",
      "BounceRates                0\n",
      "ExitRates                  0\n",
      "PageValues                 0\n",
      "SpecialDay                 0\n",
      "Month                      0\n",
      "OperatingSystems           0\n",
      "Browser                    0\n",
      "Region                     0\n",
      "TrafficType                0\n",
      "VisitorType                0\n",
      "Weekend                    0\n",
      "Revenue                    0\n",
      "dtype: int64\n",
      "0\n"
     ]
    },
    {
     "name": "stderr",
     "output_type": "stream",
     "text": [
      "C:\\Users\\rafif\\AppData\\Local\\Temp\\ipykernel_25184\\1175221403.py:12: FutureWarning: The default value of numeric_only in DataFrame.mean is deprecated. In a future version, it will default to False. In addition, specifying 'numeric_only=None' is deprecated. Select only valid columns or specify the value of numeric_only to silence this warning.\n",
      "  dataset.fillna(dataset.mean(), inplace = True)\n"
     ]
    }
   ],
   "source": [
    "import pandas as pd\n",
    "dataset = pd.read_csv('https://storage.googleapis.com/dqlab-dataset/pythonTutorial/online_raw.csv')\n",
    "\n",
    "print(\"Before imputation:\")\n",
    "# Checking missing value for each feature  \n",
    "print(dataset.isnull().sum())\n",
    "# Counting total missing value  \n",
    "print(dataset.isnull().sum().sum())\n",
    "\n",
    "print(\"\\nAfter imputation:\")\n",
    "# Fill missing value with mean of feature value  \n",
    "dataset.fillna(dataset.mean(), inplace = True)\n",
    "# Checking missing value for each feature  \n",
    "print(dataset.isnull().sum())\n",
    "# Counting total missing value  \n",
    "print(dataset.isnull().sum().sum())"
   ]
  },
  {
   "cell_type": "markdown",
   "id": "a841bbe6",
   "metadata": {},
   "source": [
    "### Tugas Praktek\n",
    "Praktekkan metode imputing missing value dengan menggunakan nilai median.\n",
    "\n",
    "Jika dengan benar ditulis dan dijalankan diperoleh tampilan output seperti berikut ini"
   ]
  },
  {
   "cell_type": "code",
   "execution_count": 8,
   "id": "347cf421",
   "metadata": {},
   "outputs": [
    {
     "name": "stdout",
     "output_type": "stream",
     "text": [
      "Before imputation:\n",
      "Administrative             14\n",
      "Administrative_Duration    14\n",
      "Informational              14\n",
      "Informational_Duration     14\n",
      "ProductRelated             14\n",
      "ProductRelated_Duration    14\n",
      "BounceRates                14\n",
      "ExitRates                  14\n",
      "PageValues                  0\n",
      "SpecialDay                  0\n",
      "Month                       0\n",
      "OperatingSystems            0\n",
      "Browser                     0\n",
      "Region                      0\n",
      "TrafficType                 0\n",
      "VisitorType                 0\n",
      "Weekend                     0\n",
      "Revenue                     0\n",
      "dtype: int64\n",
      "112\n",
      "\n",
      "After imputation:\n",
      "Administrative             0\n",
      "Administrative_Duration    0\n",
      "Informational              0\n",
      "Informational_Duration     0\n",
      "ProductRelated             0\n",
      "ProductRelated_Duration    0\n",
      "BounceRates                0\n",
      "ExitRates                  0\n",
      "PageValues                 0\n",
      "SpecialDay                 0\n",
      "Month                      0\n",
      "OperatingSystems           0\n",
      "Browser                    0\n",
      "Region                     0\n",
      "TrafficType                0\n",
      "VisitorType                0\n",
      "Weekend                    0\n",
      "Revenue                    0\n",
      "dtype: int64\n",
      "0\n"
     ]
    },
    {
     "name": "stderr",
     "output_type": "stream",
     "text": [
      "C:\\Users\\rafif\\AppData\\Local\\Temp\\ipykernel_25184\\4189180468.py:12: FutureWarning: The default value of numeric_only in DataFrame.median is deprecated. In a future version, it will default to False. In addition, specifying 'numeric_only=None' is deprecated. Select only valid columns or specify the value of numeric_only to silence this warning.\n",
      "  dataset1.fillna(dataset1.median(), inplace = True)\n"
     ]
    }
   ],
   "source": [
    "import pandas as pd\n",
    "dataset1 = pd.read_csv('https://storage.googleapis.com/dqlab-dataset/pythonTutorial/online_raw.csv')\n",
    "\n",
    "print(\"Before imputation:\")\n",
    "# Checking missing value for each feature  \n",
    "print(dataset1.isnull().sum())\n",
    "# Counting total missing value  \n",
    "print(dataset1.isnull().sum().sum())\n",
    "\n",
    "print(\"\\nAfter imputation:\")\n",
    "# Fill missing value with median of feature value  \n",
    "dataset1.fillna(dataset1.median(), inplace = True)\n",
    "# Checking missing value for each feature  \n",
    "print(dataset1.isnull().sum())\n",
    "# Counting total missing value  \n",
    "print(dataset1.isnull().sum().sum())"
   ]
  },
  {
   "cell_type": "code",
   "execution_count": 9,
   "id": "3074f0f0",
   "metadata": {},
   "outputs": [
    {
     "name": "stderr",
     "output_type": "stream",
     "text": [
      "C:\\Users\\rafif\\AppData\\Local\\Temp\\ipykernel_25184\\868003296.py:3: FutureWarning: The default value of numeric_only in DataFrame.mean is deprecated. In a future version, it will default to False. In addition, specifying 'numeric_only=None' is deprecated. Select only valid columns or specify the value of numeric_only to silence this warning.\n",
      "  dataset.fillna(dataset.mean(), inplace = True)\n"
     ]
    },
    {
     "name": "stdout",
     "output_type": "stream",
     "text": [
      "                         min  max\n",
      "Administrative           0.0  1.0\n",
      "Administrative_Duration  0.0  1.0\n",
      "Informational            0.0  1.0\n",
      "Informational_Duration   0.0  1.0\n",
      "ProductRelated           0.0  1.0\n",
      "ProductRelated_Duration  0.0  1.0\n",
      "BounceRates              0.0  1.0\n",
      "ExitRates                0.0  1.0\n",
      "PageValues               0.0  1.0\n"
     ]
    }
   ],
   "source": [
    "import pandas as pd\n",
    "dataset = pd.read_csv('https://storage.googleapis.com/dqlab-dataset/pythonTutorial/online_raw.csv')\n",
    "dataset.fillna(dataset.mean(), inplace = True)\n",
    "\n",
    "from sklearn.preprocessing import MinMaxScaler  \n",
    "#Define MinMaxScaler as scaler  \n",
    "scaler = MinMaxScaler()  \n",
    "#list all the feature that need to be scaled  \n",
    "scaling_column = ['Administrative','Administrative_Duration','Informational','Informational_Duration','ProductRelated','ProductRelated_Duration','BounceRates','ExitRates','PageValues']\n",
    "#Apply fit_transfrom to scale selected feature  \n",
    "dataset[scaling_column] = scaler.fit_transform(dataset[scaling_column])\n",
    "#Cheking min and max value of the scaling_column\n",
    "print(dataset[scaling_column].describe().T[['min','max']])\n"
   ]
  },
  {
   "cell_type": "markdown",
   "id": "a0584f93",
   "metadata": {},
   "source": [
    "### Data Pre-processing: Konversi string ke numerik"
   ]
  },
  {
   "cell_type": "code",
   "execution_count": 10,
   "id": "da1ca576",
   "metadata": {},
   "outputs": [
    {
     "name": "stdout",
     "output_type": "stream",
     "text": [
      "['Aug' 'Dec' 'Feb' 'Jul' 'June' 'Mar' 'May' 'Nov' 'Oct' 'Sep']\n",
      "[0 1 2 3 4 5 6 7 8 9]\n",
      "\n",
      "['New_Visitor' 'Other' 'Returning_Visitor']\n",
      "[0 1 2]\n"
     ]
    },
    {
     "name": "stderr",
     "output_type": "stream",
     "text": [
      "C:\\Users\\rafif\\AppData\\Local\\Temp\\ipykernel_25184\\363161620.py:3: FutureWarning: The default value of numeric_only in DataFrame.mean is deprecated. In a future version, it will default to False. In addition, specifying 'numeric_only=None' is deprecated. Select only valid columns or specify the value of numeric_only to silence this warning.\n",
      "  dataset.fillna(dataset.mean(), inplace = True)\n"
     ]
    }
   ],
   "source": [
    "import pandas as pd\n",
    "dataset = pd.read_csv('https://storage.googleapis.com/dqlab-dataset/pythonTutorial/online_raw.csv')\n",
    "dataset.fillna(dataset.mean(), inplace = True)\n",
    "\n",
    "import numpy as np\n",
    "from sklearn.preprocessing import LabelEncoder\n",
    "# Convert feature/column 'Month'\n",
    "LE = LabelEncoder()\n",
    "dataset['Month'] = LE.fit_transform(dataset['Month'])\n",
    "print(LE.classes_)\n",
    "print(np.sort(dataset['Month'].unique()))\n",
    "print('')\n",
    "\n",
    "# Convert feature/column 'VisitorType'\n",
    "LE = LabelEncoder()\n",
    "dataset['VisitorType'] = LE.fit_transform(dataset['VisitorType'])\n",
    "print(LE.classes_)\n",
    "print(np.sort(dataset['VisitorType'].unique()))"
   ]
  },
  {
   "cell_type": "markdown",
   "id": "73c31717",
   "metadata": {},
   "source": [
    "## CHAPTER 3 Pemodelan dengan Scikit-Learn\n",
    "### Features & Label\n",
    "Dalam dataset user online purchase, label target sudah diketahui, yaitu kolom Revenue yang bernilai 1 untuk user yang membeli dan 0 untuk yang tidak membeli, sehingga pemodelan yang dilakukan ini adalah klasifikasi. Nah, untuk melatih dataset menggunakan Scikit-Learn library, dataset perlu dipisahkan ke dalam Features dan Label/Target. Variabel Feature akan terdiri dari variabel yang dideklarasikan sebagai X dan [Revenue] adalah variabel Target yang dideklarasikan sebagai y. Gunakan fungsi drop() untuk menghapus kolom [Revenue] dari dataset.\n",
    "\n",
    " "
   ]
  },
  {
   "cell_type": "code",
   "execution_count": 11,
   "id": "796b1e1a",
   "metadata": {},
   "outputs": [
    {
     "name": "stdout",
     "output_type": "stream",
     "text": [
      "Shape of X: (12330, 17)\n",
      "Shape of y: (12330,)\n"
     ]
    },
    {
     "name": "stderr",
     "output_type": "stream",
     "text": [
      "C:\\Users\\rafif\\AppData\\Local\\Temp\\ipykernel_25184\\2361059328.py:3: FutureWarning: The default value of numeric_only in DataFrame.mean is deprecated. In a future version, it will default to False. In addition, specifying 'numeric_only=None' is deprecated. Select only valid columns or specify the value of numeric_only to silence this warning.\n",
      "  dataset.fillna(dataset.mean(), inplace = True)\n"
     ]
    }
   ],
   "source": [
    "import pandas as pd\n",
    "dataset = pd.read_csv('https://storage.googleapis.com/dqlab-dataset/pythonTutorial/online_raw.csv')\n",
    "dataset.fillna(dataset.mean(), inplace = True)\n",
    "\n",
    "from sklearn.preprocessing import LabelEncoder\n",
    "LE = LabelEncoder()\n",
    "dataset['Month'] = LE.fit_transform(dataset['Month'])\n",
    "LE = LabelEncoder()\n",
    "dataset['VisitorType'] = LE.fit_transform(dataset['VisitorType'])\n",
    "\n",
    "# removing the target column Revenue from dataset and assigning to X\n",
    "X = dataset.drop(['Revenue'], axis = 1)\n",
    "# assigning the target column Revenue to y\n",
    "y = dataset['Revenue']\n",
    "# checking the shapes\n",
    "print(\"Shape of X:\", X.shape)\n",
    "print(\"Shape of y:\", y.shape)"
   ]
  },
  {
   "cell_type": "markdown",
   "id": "640c1eea",
   "metadata": {},
   "source": [
    "### Training dan Test Dataset"
   ]
  },
  {
   "cell_type": "code",
   "execution_count": 12,
   "id": "adf9bf02",
   "metadata": {},
   "outputs": [
    {
     "name": "stdout",
     "output_type": "stream",
     "text": [
      "Shape of X_train : (9864, 17)\n",
      "Shape of y_train : (9864,)\n",
      "Shape of X_test : (2466, 17)\n",
      "Shape of y_test : (2466,)\n"
     ]
    },
    {
     "name": "stderr",
     "output_type": "stream",
     "text": [
      "C:\\Users\\rafif\\AppData\\Local\\Temp\\ipykernel_25184\\2147220085.py:3: FutureWarning: The default value of numeric_only in DataFrame.mean is deprecated. In a future version, it will default to False. In addition, specifying 'numeric_only=None' is deprecated. Select only valid columns or specify the value of numeric_only to silence this warning.\n",
      "  dataset.fillna(dataset.mean(), inplace = True)\n"
     ]
    }
   ],
   "source": [
    "import pandas as pd\n",
    "dataset = pd.read_csv('https://storage.googleapis.com/dqlab-dataset/pythonTutorial/online_raw.csv')\n",
    "dataset.fillna(dataset.mean(), inplace = True)\n",
    "\n",
    "from sklearn.preprocessing import LabelEncoder\n",
    "LE = LabelEncoder()\n",
    "dataset['Month'] = LE.fit_transform(dataset['Month'])\n",
    "LE = LabelEncoder()\n",
    "dataset['VisitorType'] = LE.fit_transform(dataset['VisitorType'])\n",
    "X = dataset.drop(['Revenue'], axis = 1)\n",
    "y = dataset['Revenue']\n",
    "\n",
    "from sklearn.model_selection import train_test_split\n",
    "# splitting the X, and y\n",
    "X_train, X_test, y_train, y_test = train_test_split(X, y, test_size = 0.2, random_state = 0)\n",
    "# checking the shapes\n",
    "print(\"Shape of X_train :\", X_train.shape)\n",
    "print(\"Shape of y_train :\", y_train.shape)\n",
    "print(\"Shape of X_test :\", X_test.shape)\n",
    "print(\"Shape of y_test :\", y_test.shape)"
   ]
  },
  {
   "cell_type": "markdown",
   "id": "78164b57",
   "metadata": {},
   "source": [
    "### Training Model: Fit"
   ]
  },
  {
   "cell_type": "code",
   "execution_count": 13,
   "id": "a9d726d8",
   "metadata": {},
   "outputs": [
    {
     "name": "stderr",
     "output_type": "stream",
     "text": [
      "C:\\Users\\rafif\\AppData\\Local\\Temp\\ipykernel_25184\\3272460305.py:3: FutureWarning: The default value of numeric_only in DataFrame.mean is deprecated. In a future version, it will default to False. In addition, specifying 'numeric_only=None' is deprecated. Select only valid columns or specify the value of numeric_only to silence this warning.\n",
      "  dataset.fillna(dataset.mean(), inplace = True)\n"
     ]
    }
   ],
   "source": [
    "import pandas as pd\n",
    "dataset = pd.read_csv('https://storage.googleapis.com/dqlab-dataset/pythonTutorial/online_raw.csv')\n",
    "dataset.fillna(dataset.mean(), inplace = True)\n",
    "\n",
    "from sklearn.preprocessing import LabelEncoder\n",
    "LE = LabelEncoder()\n",
    "dataset['Month'] = LE.fit_transform(dataset['Month'])\n",
    "LE = LabelEncoder()\n",
    "dataset['VisitorType'] = LE.fit_transform(dataset['VisitorType'])\n",
    "X = dataset.drop(['Revenue'], axis = 1)\n",
    "y = dataset['Revenue']\n",
    "\n",
    "from sklearn.model_selection import train_test_split\n",
    "X_train, X_test, y_train, y_test = train_test_split(X, y, test_size = 0.2, random_state = 0)\n",
    "\n",
    "from sklearn.tree import DecisionTreeClassifier\n",
    "# Call the classifier\n",
    "model = DecisionTreeClassifier()\n",
    "# Fit the classifier to the training data\n",
    "model = model.fit(X_train, y_train)\n"
   ]
  },
  {
   "cell_type": "markdown",
   "id": "7377c900",
   "metadata": {},
   "source": [
    "### Training Model: Predict"
   ]
  },
  {
   "cell_type": "code",
   "execution_count": 14,
   "id": "d2e83675",
   "metadata": {},
   "outputs": [
    {
     "name": "stdout",
     "output_type": "stream",
     "text": [
      "(2466,)\n"
     ]
    },
    {
     "name": "stderr",
     "output_type": "stream",
     "text": [
      "C:\\Users\\rafif\\AppData\\Local\\Temp\\ipykernel_25184\\3942385959.py:3: FutureWarning: The default value of numeric_only in DataFrame.mean is deprecated. In a future version, it will default to False. In addition, specifying 'numeric_only=None' is deprecated. Select only valid columns or specify the value of numeric_only to silence this warning.\n",
      "  dataset.fillna(dataset.mean(), inplace = True)\n"
     ]
    }
   ],
   "source": [
    "import pandas as pd\n",
    "dataset = pd.read_csv('https://storage.googleapis.com/dqlab-dataset/pythonTutorial/online_raw.csv')\n",
    "dataset.fillna(dataset.mean(), inplace = True)\n",
    "\n",
    "from sklearn.preprocessing import LabelEncoder\n",
    "LE = LabelEncoder()\n",
    "dataset['Month'] = LE.fit_transform(dataset['Month'])\n",
    "LE = LabelEncoder()\n",
    "dataset['VisitorType'] = LE.fit_transform(dataset['VisitorType'])\n",
    "X = dataset.drop(['Revenue'], axis = 1)\n",
    "y = dataset['Revenue']\n",
    "\n",
    "from sklearn.model_selection import train_test_split\n",
    "X_train, X_test, y_train, y_test = train_test_split(X, y, test_size = 0.2, random_state = 0)\n",
    "\n",
    "from sklearn.tree import DecisionTreeClassifier\n",
    "model = DecisionTreeClassifier()\n",
    "model = model.fit(X_train,y_train)\n",
    "\n",
    "# Apply the classifier/model to the test data\n",
    "y_pred = model.predict(X_test)\n",
    "print(y_pred.shape)"
   ]
  },
  {
   "cell_type": "markdown",
   "id": "b9b3d255",
   "metadata": {},
   "source": [
    "### Evaluasi Model Performance "
   ]
  },
  {
   "cell_type": "code",
   "execution_count": 15,
   "id": "77f67440",
   "metadata": {},
   "outputs": [
    {
     "name": "stdout",
     "output_type": "stream",
     "text": [
      "Training Accuracy : 1.0\n",
      "Testing Accuracy : 0.8609083536090836\n",
      "\n",
      "Confusion matrix:\n",
      "[[1883  161]\n",
      " [ 182  240]]\n",
      "\n",
      "Classification report:\n",
      "              precision    recall  f1-score   support\n",
      "\n",
      "       False       0.91      0.92      0.92      2044\n",
      "        True       0.60      0.57      0.58       422\n",
      "\n",
      "    accuracy                           0.86      2466\n",
      "   macro avg       0.76      0.74      0.75      2466\n",
      "weighted avg       0.86      0.86      0.86      2466\n",
      "\n"
     ]
    },
    {
     "name": "stderr",
     "output_type": "stream",
     "text": [
      "C:\\Users\\rafif\\AppData\\Local\\Temp\\ipykernel_25184\\349762213.py:3: FutureWarning: The default value of numeric_only in DataFrame.mean is deprecated. In a future version, it will default to False. In addition, specifying 'numeric_only=None' is deprecated. Select only valid columns or specify the value of numeric_only to silence this warning.\n",
      "  dataset.fillna(dataset.mean(), inplace = True)\n"
     ]
    }
   ],
   "source": [
    "import pandas as pd\n",
    "dataset = pd.read_csv('https://storage.googleapis.com/dqlab-dataset/pythonTutorial/online_raw.csv')\n",
    "dataset.fillna(dataset.mean(), inplace = True)\n",
    "\n",
    "from sklearn.preprocessing import LabelEncoder\n",
    "LE = LabelEncoder()\n",
    "dataset['Month'] = LE.fit_transform(dataset['Month'])\n",
    "LE = LabelEncoder()\n",
    "dataset['VisitorType'] = LE.fit_transform(dataset['VisitorType'])\n",
    "X = dataset.drop(['Revenue'], axis = 1)\n",
    "y = dataset['Revenue']\n",
    "\n",
    "from sklearn.model_selection import train_test_split\n",
    "X_train, X_test, y_train, y_test = train_test_split(X, y, test_size = 0.2, random_state = 0)\n",
    "\n",
    "from sklearn.tree import DecisionTreeClassifier\n",
    "model = DecisionTreeClassifier()\n",
    "model = model.fit(X_train,y_train)\n",
    "y_pred = model.predict(X_test)\n",
    "\n",
    "from sklearn.metrics import confusion_matrix, classification_report\n",
    "\n",
    "# evaluating the model\n",
    "print('Training Accuracy :', model.score(X_train, y_train))\n",
    "print('Testing Accuracy :', model.score(X_test, y_test))\n",
    "\n",
    "# confusion matrix\n",
    "print('\\nConfusion matrix:')\n",
    "cm = confusion_matrix(y_test, y_pred)\n",
    "print(cm)\n",
    "\n",
    "# classification report\n",
    "print('\\nClassification report:')\n",
    "cr = classification_report(y_test, y_pred)\n",
    "print(cr)"
   ]
  },
  {
   "cell_type": "markdown",
   "id": "db90f75e",
   "metadata": {},
   "source": [
    "## CHAPTER 4 Supervised Learning - Algorithm\n",
    "### Pemodelan Permasalahan Klasifikasi dengan Logistic Regression\n",
    "Pemodelan Logistic Regression dengan memanfaatkan Scikit-Learn sangatlah mudah. Dengan menggunakan dataset yang sama yaitu online_raw, dan setelah dataset dibagi ke dalam Training Set dan Test Set, cukup menggunakan modul linear_model dari Scikit-learn, dan memanggil fungsi LogisticRegression() yang diberi nama logreg.\n",
    "\n",
    "Kemudian, model yang sudah ditraining ini  bisa digunakan untuk memprediksi output/label dari test dataset sekaligus mengevaluasi model performance dengan fungsi score(), confusion_matrix() dan classification_report()."
   ]
  },
  {
   "cell_type": "code",
   "execution_count": 16,
   "id": "cccd1765",
   "metadata": {},
   "outputs": [
    {
     "name": "stdout",
     "output_type": "stream",
     "text": [
      "Training Accuracy : 0.8839213300892133\n",
      "Testing Accuracy : 0.8665855636658556\n",
      "\n",
      "Confusion matrix\n",
      "[[1990   54]\n",
      " [ 275  147]]\n",
      "\n",
      "Classification report\n",
      "              precision    recall  f1-score   support\n",
      "\n",
      "       False       0.88      0.97      0.92      2044\n",
      "        True       0.73      0.35      0.47       422\n",
      "\n",
      "    accuracy                           0.87      2466\n",
      "   macro avg       0.80      0.66      0.70      2466\n",
      "weighted avg       0.85      0.87      0.85      2466\n",
      "\n"
     ]
    },
    {
     "name": "stderr",
     "output_type": "stream",
     "text": [
      "C:\\Users\\rafif\\AppData\\Local\\Temp\\ipykernel_25184\\301690782.py:3: FutureWarning: The default value of numeric_only in DataFrame.mean is deprecated. In a future version, it will default to False. In addition, specifying 'numeric_only=None' is deprecated. Select only valid columns or specify the value of numeric_only to silence this warning.\n",
      "  dataset.fillna(dataset.mean(), inplace = True)\n",
      "c:\\Users\\rafif\\anaconda3\\lib\\site-packages\\sklearn\\linear_model\\_logistic.py:458: ConvergenceWarning: lbfgs failed to converge (status=1):\n",
      "STOP: TOTAL NO. of ITERATIONS REACHED LIMIT.\n",
      "\n",
      "Increase the number of iterations (max_iter) or scale the data as shown in:\n",
      "    https://scikit-learn.org/stable/modules/preprocessing.html\n",
      "Please also refer to the documentation for alternative solver options:\n",
      "    https://scikit-learn.org/stable/modules/linear_model.html#logistic-regression\n",
      "  n_iter_i = _check_optimize_result(\n"
     ]
    }
   ],
   "source": [
    "import pandas as pd\n",
    "dataset = pd.read_csv('https://storage.googleapis.com/dqlab-dataset/pythonTutorial/online_raw.csv')\n",
    "dataset.fillna(dataset.mean(), inplace = True)\n",
    "\n",
    "from sklearn.preprocessing import LabelEncoder\n",
    "LE = LabelEncoder()\n",
    "dataset['Month'] = LE.fit_transform(dataset['Month'])\n",
    "LE = LabelEncoder()\n",
    "dataset['VisitorType'] = LE.fit_transform(dataset['VisitorType'])\n",
    "X = dataset.drop(['Revenue'], axis = 1)\n",
    "y = dataset['Revenue']\n",
    "\n",
    "from sklearn.model_selection import train_test_split\n",
    "X_train, X_test, y_train, y_test = train_test_split(X, y, test_size = 0.2, random_state = 0)\n",
    "\n",
    "from sklearn.linear_model import LogisticRegression\n",
    "from sklearn.metrics import confusion_matrix, classification_report\n",
    "\n",
    "# Call the classifier\n",
    "logreg = LogisticRegression()\n",
    "# Fit the classifier to the training data  \n",
    "logreg = logreg.fit(X_train, y_train)\n",
    "#Training Model: Predict \n",
    "y_pred = logreg.predict(X_test)\n",
    "\n",
    "#Evaluate Model Performance\n",
    "print('Training Accuracy :', logreg.score(X_train, y_train))  \n",
    "print('Testing Accuracy :', logreg.score(X_test, y_test))  \n",
    "\n",
    "# confusion matrix\n",
    "print('\\nConfusion matrix')  \n",
    "cm = confusion_matrix(y_test, y_pred) \n",
    "print(cm)\n",
    "\n",
    "# classification report  \n",
    "print('\\nClassification report')  \n",
    "cr = classification_report(y_test, y_pred)\n",
    "print(cr)"
   ]
  },
  {
   "cell_type": "markdown",
   "id": "88a281d0",
   "metadata": {},
   "source": [
    "### Tugas Praktek\n",
    "Dengan menggunakan dataset online_raw.csv dan diasumsikan sudah melakukan EDA dan pre-processing, aku akan membuat model machine learning dengan menggunakan decision tree :\n",
    "\n",
    "- Import DecisionTreeClassifier dan panggil fungsi tersebut dengan nama decision_tree\n",
    "- Split dataset ke dalam training & testing dataset dengan perbandingan 70:30, dengan random_state = 0\n",
    "- Latih model dengan training feature (X_train) dan training target (y_train) menggunakan .fit()\n",
    "- Evaluasi hasil model decision_tree yang sudah dilatih dengan testing feature (X_test) dan print nilai akurasi dari training dan testing dengan fungsi .score()"
   ]
  },
  {
   "cell_type": "code",
   "execution_count": 17,
   "id": "f5ca7ab1",
   "metadata": {},
   "outputs": [
    {
     "name": "stdout",
     "output_type": "stream",
     "text": [
      "Training Accuracy : 1.0\n",
      "Testing Accuracy : 0.8577994052446607\n"
     ]
    },
    {
     "name": "stderr",
     "output_type": "stream",
     "text": [
      "C:\\Users\\rafif\\AppData\\Local\\Temp\\ipykernel_25184\\383881684.py:3: FutureWarning: The default value of numeric_only in DataFrame.mean is deprecated. In a future version, it will default to False. In addition, specifying 'numeric_only=None' is deprecated. Select only valid columns or specify the value of numeric_only to silence this warning.\n",
      "  dataset.fillna(dataset.mean(), inplace = True)\n"
     ]
    }
   ],
   "source": [
    "import pandas as pd\n",
    "dataset = pd.read_csv('https://storage.googleapis.com/dqlab-dataset/pythonTutorial/online_raw.csv')\n",
    "dataset.fillna(dataset.mean(), inplace = True)\n",
    "\n",
    "from sklearn.preprocessing import LabelEncoder\n",
    "LE = LabelEncoder()\n",
    "dataset['Month'] = LE.fit_transform(dataset['Month'])\n",
    "LE = LabelEncoder()\n",
    "dataset['VisitorType'] = LE.fit_transform(dataset['VisitorType'])\n",
    "X = dataset.drop(['Revenue'], axis = 1)\n",
    "y = dataset['Revenue']\n",
    "\n",
    "from sklearn.model_selection import train_test_split\n",
    "from sklearn.tree import DecisionTreeClassifier \n",
    "\n",
    "# splitting the data\n",
    "X_train, X_test, y_train, y_test = train_test_split(X, y, test_size = 0.3, random_state = 0)\n",
    "\n",
    "# Call the classifier\n",
    "decision_tree = DecisionTreeClassifier()\n",
    "# Fit the classifier to the training data\n",
    "decision_tree = decision_tree.fit(X_train, y_train)\n",
    "\n",
    "# evaluating the decision_tree performance\n",
    "print('Training Accuracy :', decision_tree.score(X_train, y_train))  \n",
    "print('Testing Accuracy :', decision_tree.score(X_test, y_test))  "
   ]
  },
  {
   "cell_type": "markdown",
   "id": "f77821dc",
   "metadata": {},
   "source": [
    "### Tugas Praktek\n",
    "“Oke, saya tahu kamu sudah enggak sabar. Sebelumnya kamu membuat modellingnya, saya jelaskan prosedur dan library yang tepat untuk digunakan ya, nanti saya akan email detail intruksinya.”\n",
    "\n",
    "Aku pun menunggu email dari Senja. Setelah beberapa menit, pesan yang kutunggu akhirnya muncul:\n",
    "\n",
    "- Pisahkan dataset ke dalam Feature dan Label, gunakan fungsi .drop(). Pada dataset ini, label/target adalah variabel MEDV\n",
    "- Checking dan print jumlah data setelah Dataset pisahkan ke dalam Feature dan Label, gunakan .shape()\n",
    "- Bagi dataset ke dalam Training dan test dataset, 70% data digunakan untuk training dan 30% untuk testing, gunakan fungsi train_test_split() , dengan random_state = 0\n",
    "- Checking dan print kembali jumlah data dengan fungsi .shape()\n",
    "- Import LinearRegression dari sklearn.linear_model\n",
    "- Deklarasikan  LinearRegression regressor dengan nama reg\n",
    "- Fit regressor ke training dataset dengan .fit(), dan gunakan .predict() untuk memprediksi nilai dari testing dataset.\n"
   ]
  },
  {
   "cell_type": "code",
   "execution_count": 18,
   "id": "78ee518f",
   "metadata": {},
   "outputs": [
    {
     "name": "stdout",
     "output_type": "stream",
     "text": [
      "Shape of X: (489, 3)\n",
      "Shape of y: (489,)\n",
      "Shape of X_train : (342, 3)\n",
      "Shape of y_train : (342,)\n",
      "Shape of X_test : (147, 3)\n",
      "Shape of y_test : (147,)\n"
     ]
    }
   ],
   "source": [
    "#load dataset\n",
    "import pandas as pd\n",
    "housing = pd.read_csv('https://storage.googleapis.com/dqlab-dataset/pythonTutorial/housing_boston.csv')\n",
    "#Data rescaling\n",
    "from sklearn import preprocessing\n",
    "data_scaler = preprocessing.MinMaxScaler(feature_range=(0,1))\n",
    "housing[['RM','LSTAT','PTRATIO','MEDV']] = data_scaler.fit_transform(housing[['RM','LSTAT','PTRATIO','MEDV']])\n",
    "# getting dependent and independent variables\n",
    "X = housing.drop(['MEDV'], axis = 1)\n",
    "y = housing['MEDV']\n",
    "# checking the shapes\n",
    "print('Shape of X:', X.shape)\n",
    "print('Shape of y:', y.shape)\n",
    "\n",
    "# splitting the data\n",
    "from sklearn.model_selection import train_test_split\n",
    "X_train, X_test, y_train, y_test = train_test_split(X, y, test_size = 0.3, random_state = 0)\n",
    "# checking the shapes  \n",
    "print('Shape of X_train :', X_train.shape)\n",
    "print('Shape of y_train :', y_train.shape)\n",
    "print('Shape of X_test :', X_test.shape)\n",
    "print('Shape of y_test :', y_test.shape)\n",
    "\n",
    "##import regressor from Scikit-Learn\n",
    "from sklearn.linear_model import LinearRegression \n",
    "# Call the regressor\n",
    "reg = LinearRegression()\n",
    "# Fit the regressor to the training data  \n",
    "reg = reg.fit(X_train, y_train)\n",
    "# Apply the regressor/model to the test data  \n",
    "y_pred = reg.predict(X_test)"
   ]
  },
  {
   "cell_type": "markdown",
   "id": "36a1b106",
   "metadata": {},
   "source": [
    "### Tugas Praktek\n",
    "\"Kalau kamu sudah paham evaluasi performa model regresi, sekaligus kamu coba hitung nilai MSE, MAE, dan RMSE dari linear modelnya, Aksara,” pinta Senja\n",
    "\n",
    " \n",
    "\n",
    "Aku baru mau mengutak-atik kodenya ketika email dari Senja muncul berisi intruksi:\n",
    "\n",
    "- Import library yang digunakan: mean_squared_error, mean_absolute_error dari  sklearn.metrics dan numpy sebagai aliasnya yaitu np. Serta, import juga matplotlib.pyplot sebagai aliasnya, plt.\n",
    "- Hitung dan print nilai MSE dan RMSE dengan menggunakan argumen y_test dan y_pred, untuk rmse gunakan np.sqrt()\n",
    "- Buat scatter plot yang menggambarkan hasil prediksi (y_pred) dan harga actual (y_test)"
   ]
  },
  {
   "cell_type": "code",
   "execution_count": 19,
   "id": "ba75bda7",
   "metadata": {},
   "outputs": [
    {
     "name": "stdout",
     "output_type": "stream",
     "text": [
      "Mean squared error of testing set: 0.010913024655841009\n",
      "Mean absolute error of testing set: 0.0778989610312069\n",
      "Root Mean Squared Error of testing set: 0.1044654232549747\n"
     ]
    },
    {
     "data": {
      "image/png": "[encoded data removed]",
      "text/plain": [
       "<Figure size 432x288 with 1 Axes>"
      ]
     },
     "metadata": {
      "needs_background": "light"
     },
     "output_type": "display_data"
    }
   ],
   "source": [
    "import pandas as pd\n",
    "housing = pd.read_csv('https://storage.googleapis.com/dqlab-dataset/pythonTutorial/housing_boston.csv')\n",
    "\n",
    "from sklearn import preprocessing\n",
    "data_scaler = preprocessing.MinMaxScaler(feature_range=(0,1))\n",
    "housing[['RM','LSTAT','PTRATIO','MEDV']] = data_scaler.fit_transform(housing[['RM','LSTAT','PTRATIO','MEDV']])\n",
    "X = housing.drop(['MEDV'], axis = 1)\n",
    "y = housing['MEDV']\n",
    "\n",
    "from sklearn.model_selection import train_test_split\n",
    "X_train, X_test, y_train, y_test = train_test_split(X, y, test_size = 0.3, random_state = 0)\n",
    "\n",
    "from sklearn.linear_model import LinearRegression\n",
    "reg = LinearRegression()\n",
    "reg = reg.fit(X_train,y_train)\n",
    "y_pred = reg.predict(X_test)\n",
    "\n",
    "from sklearn.metrics import mean_squared_error, mean_absolute_error\n",
    "import numpy as np\n",
    "import matplotlib.pyplot as plt\n",
    "#Calculating MSE, lower the value better it is. 0 means perfect prediction\n",
    "mse = mean_squared_error(y_test, y_pred)\n",
    "print('Mean squared error of testing set:', mse)\n",
    "#Calculating MAE\n",
    "mae = mean_absolute_error(y_test, y_pred)\n",
    "print('Mean absolute error of testing set:', mae)\n",
    "#Calculating RMSE\n",
    "rmse = np.sqrt(mse)\n",
    "print('Root Mean Squared Error of testing set:', rmse)\n",
    "#Plotting y_test dan y_pred\n",
    "plt.scatter(y_test, y_pred, c = 'green')\n",
    "plt.xlabel('Price Actual')\n",
    "plt.ylabel('Predicted value')\n",
    "plt.title('True value vs predicted value : Linear Regression')\n",
    "plt.show()"
   ]
  }
 ],
 "metadata": {
  "kernelspec": {
   "display_name": "base",
   "language": "python",
   "name": "python3"
  },
  "language_info": {
   "codemirror_mode": {
    "name": "ipython",
    "version": 3
   },
   "file_extension": ".py",
   "mimetype": "text/x-python",
   "name": "python",
   "nbconvert_exporter": "python",
   "pygments_lexer": "ipython3",
   "version": "3.10.9"
  }
 },
 "nbformat": 4,
 "nbformat_minor": 5
}
